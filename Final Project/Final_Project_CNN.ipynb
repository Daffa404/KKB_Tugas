{
  "nbformat": 4,
  "nbformat_minor": 0,
  "metadata": {
    "colab": {
      "name": "Final Project CNN.ipynb",
      "provenance": [],
      "collapsed_sections": []
    },
    "kernelspec": {
      "name": "python3",
      "display_name": "Python 3"
    }
  },
  "cells": [
    {
      "cell_type": "markdown",
      "metadata": {
        "id": "GIX7D7rm6MwP"
      },
      "source": [
        "## Install python autotime untuk menghitung waktu eksekusi"
      ]
    },
    {
      "cell_type": "code",
      "metadata": {
        "colab": {
          "base_uri": "https://localhost:8080/"
        },
        "id": "YLN13hhBUxRV",
        "outputId": "bae9a9db-36a1-40df-80a2-3fca97abab84"
      },
      "source": [
        "!pip install ipython-autotime\r\n",
        "%load_ext autotime"
      ],
      "execution_count": null,
      "outputs": [
        {
          "output_type": "stream",
          "text": [
            "Collecting ipython-autotime\n",
            "  Downloading https://files.pythonhosted.org/packages/d6/c5/013f5aa3b56c6d2c58634bc979773df44ab2226cf4fa787daf0bfeeea0b4/ipython_autotime-0.3.0-py2.py3-none-any.whl\n",
            "Requirement already satisfied: ipython in /usr/local/lib/python3.6/dist-packages (from ipython-autotime) (5.5.0)\n",
            "Requirement already satisfied: prompt-toolkit<2.0.0,>=1.0.4 in /usr/local/lib/python3.6/dist-packages (from ipython->ipython-autotime) (1.0.18)\n",
            "Requirement already satisfied: pickleshare in /usr/local/lib/python3.6/dist-packages (from ipython->ipython-autotime) (0.7.5)\n",
            "Requirement already satisfied: traitlets>=4.2 in /usr/local/lib/python3.6/dist-packages (from ipython->ipython-autotime) (4.3.3)\n",
            "Requirement already satisfied: pexpect; sys_platform != \"win32\" in /usr/local/lib/python3.6/dist-packages (from ipython->ipython-autotime) (4.8.0)\n",
            "Requirement already satisfied: decorator in /usr/local/lib/python3.6/dist-packages (from ipython->ipython-autotime) (4.4.2)\n",
            "Requirement already satisfied: pygments in /usr/local/lib/python3.6/dist-packages (from ipython->ipython-autotime) (2.6.1)\n",
            "Requirement already satisfied: setuptools>=18.5 in /usr/local/lib/python3.6/dist-packages (from ipython->ipython-autotime) (51.1.1)\n",
            "Requirement already satisfied: simplegeneric>0.8 in /usr/local/lib/python3.6/dist-packages (from ipython->ipython-autotime) (0.8.1)\n",
            "Requirement already satisfied: six>=1.9.0 in /usr/local/lib/python3.6/dist-packages (from prompt-toolkit<2.0.0,>=1.0.4->ipython->ipython-autotime) (1.15.0)\n",
            "Requirement already satisfied: wcwidth in /usr/local/lib/python3.6/dist-packages (from prompt-toolkit<2.0.0,>=1.0.4->ipython->ipython-autotime) (0.2.5)\n",
            "Requirement already satisfied: ipython-genutils in /usr/local/lib/python3.6/dist-packages (from traitlets>=4.2->ipython->ipython-autotime) (0.2.0)\n",
            "Requirement already satisfied: ptyprocess>=0.5 in /usr/local/lib/python3.6/dist-packages (from pexpect; sys_platform != \"win32\"->ipython->ipython-autotime) (0.6.0)\n",
            "Installing collected packages: ipython-autotime\n",
            "Successfully installed ipython-autotime-0.3.0\n",
            "time: 1.59 ms (started: 2021-01-09 23:28:39 +00:00)\n"
          ],
          "name": "stdout"
        }
      ]
    },
    {
      "cell_type": "markdown",
      "metadata": {
        "id": "yaZSijeaHY0p"
      },
      "source": [
        "## Mendowload dataset"
      ]
    },
    {
      "cell_type": "code",
      "metadata": {
        "colab": {
          "base_uri": "https://localhost:8080/"
        },
        "id": "YfNbjxtbT2Hb",
        "outputId": "83ae9654-f993-47d9-c4d7-972c53251e51"
      },
      "source": [
        "!wget https://raw.githubusercontent.com/Daffa404/KKB_Tugas/master/Final%20Project/lol_ranked_games.csv"
      ],
      "execution_count": null,
      "outputs": [
        {
          "output_type": "stream",
          "text": [
            "--2021-01-09 23:28:39--  https://raw.githubusercontent.com/Daffa404/KKB_Tugas/master/Final%20Project/lol_ranked_games.csv\n",
            "Resolving raw.githubusercontent.com (raw.githubusercontent.com)... 151.101.0.133, 151.101.64.133, 151.101.128.133, ...\n",
            "Connecting to raw.githubusercontent.com (raw.githubusercontent.com)|151.101.0.133|:443... connected.\n",
            "HTTP request sent, awaiting response... 200 OK\n",
            "Length: 38679427 (37M) [text/plain]\n",
            "Saving to: ‘lol_ranked_games.csv’\n",
            "\n",
            "lol_ranked_games.cs 100%[===================>]  36.89M  59.6MB/s    in 0.6s    \n",
            "\n",
            "2021-01-09 23:28:39 (59.6 MB/s) - ‘lol_ranked_games.csv’ saved [38679427/38679427]\n",
            "\n",
            "time: 815 ms (started: 2021-01-09 23:28:39 +00:00)\n"
          ],
          "name": "stdout"
        }
      ]
    },
    {
      "cell_type": "markdown",
      "metadata": {
        "id": "fUN8_9cjKlyT"
      },
      "source": [
        "## Import"
      ]
    },
    {
      "cell_type": "code",
      "metadata": {
        "colab": {
          "base_uri": "https://localhost:8080/"
        },
        "id": "QsPv0taKUn29",
        "outputId": "00a6ea1a-fdea-4021-9191-38abfff19b12"
      },
      "source": [
        "# Util\r\n",
        "import pandas as pd\r\n",
        "import numpy as np\r\n",
        "\r\n",
        "from sklearn.model_selection import train_test_split\r\n",
        "from sklearn.preprocessing import MinMaxScaler\r\n",
        "from sklearn.metrics import accuracy_score\r\n",
        "\r\n",
        "# Model\r\n",
        "from keras.layers.convolutional import Conv1D, MaxPooling1D\r\n",
        "from keras.optimizers import Adam # Optimizer Adam\r\n",
        "from keras.optimizers import SGD # Optimizer SGD\r\n",
        "from keras.optimizers import Ftrl # Optimizer Ftrl\r\n",
        "from keras.optimizers import RMSprop # Optimizer RMSprop\r\n",
        "from keras.models import Sequential\r\n",
        "from keras.layers import Dense, Dropout, Flatten\r\n",
        "from keras.callbacks import EarlyStopping\r\n",
        "\r\n",
        "# Visualisasi\r\n",
        "import matplotlib.pyplot as plt\r\n",
        "\r\n",
        "# Count Runtime\r\n",
        "import time"
      ],
      "execution_count": null,
      "outputs": [
        {
          "output_type": "stream",
          "text": [
            "time: 2.77 s (started: 2021-01-09 23:28:43 +00:00)\n"
          ],
          "name": "stdout"
        }
      ]
    },
    {
      "cell_type": "markdown",
      "metadata": {
        "id": "43LLkc0vKiV9"
      },
      "source": [
        "## Persiapan Data Train dan Test"
      ]
    },
    {
      "cell_type": "markdown",
      "metadata": {
        "id": "lNsZFd-rEoZN"
      },
      "source": [
        "Load Dataset"
      ]
    },
    {
      "cell_type": "code",
      "metadata": {
        "colab": {
          "base_uri": "https://localhost:8080/",
          "height": 245
        },
        "id": "0kFlZqmJU2qM",
        "outputId": "f63faaec-4962-4f55-8f6c-41a44da0b4e4"
      },
      "source": [
        "df = pd.read_csv('/content/lol_ranked_games.csv')\r\n",
        "df.head()"
      ],
      "execution_count": null,
      "outputs": [
        {
          "output_type": "execute_result",
          "data": {
            "text/html": [
              "<div>\n",
              "<style scoped>\n",
              "    .dataframe tbody tr th:only-of-type {\n",
              "        vertical-align: middle;\n",
              "    }\n",
              "\n",
              "    .dataframe tbody tr th {\n",
              "        vertical-align: top;\n",
              "    }\n",
              "\n",
              "    .dataframe thead th {\n",
              "        text-align: right;\n",
              "    }\n",
              "</style>\n",
              "<table border=\"1\" class=\"dataframe\">\n",
              "  <thead>\n",
              "    <tr style=\"text-align: right;\">\n",
              "      <th></th>\n",
              "      <th>gameId</th>\n",
              "      <th>gameDuration</th>\n",
              "      <th>hasWon</th>\n",
              "      <th>frame</th>\n",
              "      <th>goldDiff</th>\n",
              "      <th>expDiff</th>\n",
              "      <th>champLevelDiff</th>\n",
              "      <th>isFirstTower</th>\n",
              "      <th>isFirstBlood</th>\n",
              "      <th>killedFireDrake</th>\n",
              "      <th>killedWaterDrake</th>\n",
              "      <th>killedAirDrake</th>\n",
              "      <th>killedEarthDrake</th>\n",
              "      <th>killedElderDrake</th>\n",
              "      <th>lostFireDrake</th>\n",
              "      <th>lostWaterDrake</th>\n",
              "      <th>lostAirDrake</th>\n",
              "      <th>lostEarthDrake</th>\n",
              "      <th>lostElderDrake</th>\n",
              "      <th>killedBaronNashor</th>\n",
              "      <th>lostBaronNashor</th>\n",
              "      <th>killedRiftHerald</th>\n",
              "      <th>lostRiftHerald</th>\n",
              "      <th>destroyedTopInhibitor</th>\n",
              "      <th>destroyedMidInhibitor</th>\n",
              "      <th>destroyedBotInhibitor</th>\n",
              "      <th>lostTopInhibitor</th>\n",
              "      <th>lostMidInhibitor</th>\n",
              "      <th>lostBotInhibitor</th>\n",
              "      <th>destroyedTopNexusTurret</th>\n",
              "      <th>destroyedMidNexusTurret</th>\n",
              "      <th>destroyedBotNexusTurret</th>\n",
              "      <th>lostTopNexusTurret</th>\n",
              "      <th>lostMidNexusTurret</th>\n",
              "      <th>lostBotNexusTurret</th>\n",
              "      <th>destroyedTopBaseTurret</th>\n",
              "      <th>destroyedMidBaseTurret</th>\n",
              "      <th>destroyedBotBaseTurret</th>\n",
              "      <th>lostTopBaseTurret</th>\n",
              "      <th>lostMidBaseTurret</th>\n",
              "      <th>lostBotBaseTurret</th>\n",
              "      <th>destroyedTopInnerTurret</th>\n",
              "      <th>destroyedMidInnerTurret</th>\n",
              "      <th>destroyedBotInnerTurret</th>\n",
              "      <th>lostTopInnerTurret</th>\n",
              "      <th>lostMidInnerTurret</th>\n",
              "      <th>lostBotInnerTurret</th>\n",
              "      <th>destroyedTopOuterTurret</th>\n",
              "      <th>destroyedMidOuterTurret</th>\n",
              "      <th>destroyedBotOuterTurret</th>\n",
              "      <th>lostTopOuterTurret</th>\n",
              "      <th>lostMidOuterTurret</th>\n",
              "      <th>lostBotOuterTurret</th>\n",
              "      <th>kills</th>\n",
              "      <th>deaths</th>\n",
              "      <th>assists</th>\n",
              "      <th>wardsPlaced</th>\n",
              "      <th>wardsDestroyed</th>\n",
              "      <th>wardsLost</th>\n",
              "    </tr>\n",
              "  </thead>\n",
              "  <tbody>\n",
              "    <tr>\n",
              "      <th>0</th>\n",
              "      <td>4546233126</td>\n",
              "      <td>1443000</td>\n",
              "      <td>1</td>\n",
              "      <td>10</td>\n",
              "      <td>-448</td>\n",
              "      <td>-147</td>\n",
              "      <td>-0.2</td>\n",
              "      <td>0</td>\n",
              "      <td>1</td>\n",
              "      <td>0</td>\n",
              "      <td>0</td>\n",
              "      <td>0</td>\n",
              "      <td>1</td>\n",
              "      <td>0</td>\n",
              "      <td>0</td>\n",
              "      <td>0</td>\n",
              "      <td>0</td>\n",
              "      <td>0</td>\n",
              "      <td>0</td>\n",
              "      <td>0</td>\n",
              "      <td>0</td>\n",
              "      <td>0</td>\n",
              "      <td>0</td>\n",
              "      <td>0</td>\n",
              "      <td>0</td>\n",
              "      <td>0</td>\n",
              "      <td>0</td>\n",
              "      <td>0</td>\n",
              "      <td>0</td>\n",
              "      <td>0</td>\n",
              "      <td>0</td>\n",
              "      <td>0</td>\n",
              "      <td>0</td>\n",
              "      <td>0</td>\n",
              "      <td>0</td>\n",
              "      <td>0</td>\n",
              "      <td>0</td>\n",
              "      <td>0</td>\n",
              "      <td>0</td>\n",
              "      <td>0</td>\n",
              "      <td>0</td>\n",
              "      <td>0</td>\n",
              "      <td>0</td>\n",
              "      <td>0</td>\n",
              "      <td>0</td>\n",
              "      <td>0</td>\n",
              "      <td>0</td>\n",
              "      <td>0</td>\n",
              "      <td>0</td>\n",
              "      <td>0</td>\n",
              "      <td>0</td>\n",
              "      <td>0</td>\n",
              "      <td>0</td>\n",
              "      <td>4</td>\n",
              "      <td>7</td>\n",
              "      <td>5</td>\n",
              "      <td>21</td>\n",
              "      <td>3</td>\n",
              "      <td>5</td>\n",
              "    </tr>\n",
              "    <tr>\n",
              "      <th>1</th>\n",
              "      <td>4546233126</td>\n",
              "      <td>1443000</td>\n",
              "      <td>1</td>\n",
              "      <td>12</td>\n",
              "      <td>-1306</td>\n",
              "      <td>-925</td>\n",
              "      <td>-0.6</td>\n",
              "      <td>0</td>\n",
              "      <td>1</td>\n",
              "      <td>0</td>\n",
              "      <td>0</td>\n",
              "      <td>0</td>\n",
              "      <td>1</td>\n",
              "      <td>0</td>\n",
              "      <td>0</td>\n",
              "      <td>1</td>\n",
              "      <td>0</td>\n",
              "      <td>0</td>\n",
              "      <td>0</td>\n",
              "      <td>0</td>\n",
              "      <td>0</td>\n",
              "      <td>0</td>\n",
              "      <td>1</td>\n",
              "      <td>0</td>\n",
              "      <td>0</td>\n",
              "      <td>0</td>\n",
              "      <td>0</td>\n",
              "      <td>0</td>\n",
              "      <td>0</td>\n",
              "      <td>0</td>\n",
              "      <td>0</td>\n",
              "      <td>0</td>\n",
              "      <td>0</td>\n",
              "      <td>0</td>\n",
              "      <td>0</td>\n",
              "      <td>0</td>\n",
              "      <td>0</td>\n",
              "      <td>0</td>\n",
              "      <td>0</td>\n",
              "      <td>0</td>\n",
              "      <td>0</td>\n",
              "      <td>0</td>\n",
              "      <td>0</td>\n",
              "      <td>0</td>\n",
              "      <td>0</td>\n",
              "      <td>0</td>\n",
              "      <td>0</td>\n",
              "      <td>0</td>\n",
              "      <td>0</td>\n",
              "      <td>0</td>\n",
              "      <td>0</td>\n",
              "      <td>0</td>\n",
              "      <td>0</td>\n",
              "      <td>6</td>\n",
              "      <td>11</td>\n",
              "      <td>6</td>\n",
              "      <td>28</td>\n",
              "      <td>4</td>\n",
              "      <td>6</td>\n",
              "    </tr>\n",
              "    <tr>\n",
              "      <th>2</th>\n",
              "      <td>4546233126</td>\n",
              "      <td>1443000</td>\n",
              "      <td>1</td>\n",
              "      <td>14</td>\n",
              "      <td>2115</td>\n",
              "      <td>2578</td>\n",
              "      <td>0.4</td>\n",
              "      <td>1</td>\n",
              "      <td>1</td>\n",
              "      <td>0</td>\n",
              "      <td>0</td>\n",
              "      <td>0</td>\n",
              "      <td>1</td>\n",
              "      <td>0</td>\n",
              "      <td>0</td>\n",
              "      <td>1</td>\n",
              "      <td>0</td>\n",
              "      <td>0</td>\n",
              "      <td>0</td>\n",
              "      <td>0</td>\n",
              "      <td>0</td>\n",
              "      <td>0</td>\n",
              "      <td>1</td>\n",
              "      <td>0</td>\n",
              "      <td>0</td>\n",
              "      <td>0</td>\n",
              "      <td>0</td>\n",
              "      <td>0</td>\n",
              "      <td>0</td>\n",
              "      <td>0</td>\n",
              "      <td>0</td>\n",
              "      <td>0</td>\n",
              "      <td>0</td>\n",
              "      <td>0</td>\n",
              "      <td>0</td>\n",
              "      <td>0</td>\n",
              "      <td>0</td>\n",
              "      <td>0</td>\n",
              "      <td>0</td>\n",
              "      <td>0</td>\n",
              "      <td>0</td>\n",
              "      <td>0</td>\n",
              "      <td>0</td>\n",
              "      <td>0</td>\n",
              "      <td>0</td>\n",
              "      <td>0</td>\n",
              "      <td>0</td>\n",
              "      <td>1</td>\n",
              "      <td>0</td>\n",
              "      <td>0</td>\n",
              "      <td>0</td>\n",
              "      <td>0</td>\n",
              "      <td>0</td>\n",
              "      <td>10</td>\n",
              "      <td>11</td>\n",
              "      <td>12</td>\n",
              "      <td>35</td>\n",
              "      <td>4</td>\n",
              "      <td>6</td>\n",
              "    </tr>\n",
              "    <tr>\n",
              "      <th>3</th>\n",
              "      <td>4546233126</td>\n",
              "      <td>1443000</td>\n",
              "      <td>1</td>\n",
              "      <td>16</td>\n",
              "      <td>1195</td>\n",
              "      <td>2134</td>\n",
              "      <td>0.4</td>\n",
              "      <td>1</td>\n",
              "      <td>1</td>\n",
              "      <td>0</td>\n",
              "      <td>0</td>\n",
              "      <td>0</td>\n",
              "      <td>1</td>\n",
              "      <td>0</td>\n",
              "      <td>0</td>\n",
              "      <td>1</td>\n",
              "      <td>0</td>\n",
              "      <td>0</td>\n",
              "      <td>0</td>\n",
              "      <td>0</td>\n",
              "      <td>0</td>\n",
              "      <td>0</td>\n",
              "      <td>1</td>\n",
              "      <td>0</td>\n",
              "      <td>0</td>\n",
              "      <td>0</td>\n",
              "      <td>0</td>\n",
              "      <td>0</td>\n",
              "      <td>0</td>\n",
              "      <td>0</td>\n",
              "      <td>0</td>\n",
              "      <td>0</td>\n",
              "      <td>0</td>\n",
              "      <td>0</td>\n",
              "      <td>0</td>\n",
              "      <td>0</td>\n",
              "      <td>0</td>\n",
              "      <td>0</td>\n",
              "      <td>0</td>\n",
              "      <td>0</td>\n",
              "      <td>0</td>\n",
              "      <td>0</td>\n",
              "      <td>0</td>\n",
              "      <td>0</td>\n",
              "      <td>0</td>\n",
              "      <td>0</td>\n",
              "      <td>0</td>\n",
              "      <td>1</td>\n",
              "      <td>0</td>\n",
              "      <td>0</td>\n",
              "      <td>0</td>\n",
              "      <td>1</td>\n",
              "      <td>0</td>\n",
              "      <td>10</td>\n",
              "      <td>12</td>\n",
              "      <td>12</td>\n",
              "      <td>45</td>\n",
              "      <td>6</td>\n",
              "      <td>10</td>\n",
              "    </tr>\n",
              "    <tr>\n",
              "      <th>4</th>\n",
              "      <td>4546233126</td>\n",
              "      <td>1443000</td>\n",
              "      <td>1</td>\n",
              "      <td>18</td>\n",
              "      <td>2931</td>\n",
              "      <td>4382</td>\n",
              "      <td>0.6</td>\n",
              "      <td>1</td>\n",
              "      <td>1</td>\n",
              "      <td>1</td>\n",
              "      <td>0</td>\n",
              "      <td>0</td>\n",
              "      <td>1</td>\n",
              "      <td>0</td>\n",
              "      <td>0</td>\n",
              "      <td>1</td>\n",
              "      <td>0</td>\n",
              "      <td>0</td>\n",
              "      <td>0</td>\n",
              "      <td>0</td>\n",
              "      <td>0</td>\n",
              "      <td>0</td>\n",
              "      <td>1</td>\n",
              "      <td>0</td>\n",
              "      <td>0</td>\n",
              "      <td>0</td>\n",
              "      <td>0</td>\n",
              "      <td>0</td>\n",
              "      <td>0</td>\n",
              "      <td>0</td>\n",
              "      <td>0</td>\n",
              "      <td>0</td>\n",
              "      <td>0</td>\n",
              "      <td>0</td>\n",
              "      <td>0</td>\n",
              "      <td>0</td>\n",
              "      <td>0</td>\n",
              "      <td>0</td>\n",
              "      <td>0</td>\n",
              "      <td>0</td>\n",
              "      <td>0</td>\n",
              "      <td>0</td>\n",
              "      <td>0</td>\n",
              "      <td>0</td>\n",
              "      <td>0</td>\n",
              "      <td>0</td>\n",
              "      <td>0</td>\n",
              "      <td>1</td>\n",
              "      <td>0</td>\n",
              "      <td>0</td>\n",
              "      <td>0</td>\n",
              "      <td>1</td>\n",
              "      <td>0</td>\n",
              "      <td>13</td>\n",
              "      <td>13</td>\n",
              "      <td>16</td>\n",
              "      <td>49</td>\n",
              "      <td>7</td>\n",
              "      <td>12</td>\n",
              "    </tr>\n",
              "  </tbody>\n",
              "</table>\n",
              "</div>"
            ],
            "text/plain": [
              "       gameId  gameDuration  hasWon  ...  wardsPlaced  wardsDestroyed  wardsLost\n",
              "0  4546233126       1443000       1  ...           21               3          5\n",
              "1  4546233126       1443000       1  ...           28               4          6\n",
              "2  4546233126       1443000       1  ...           35               4          6\n",
              "3  4546233126       1443000       1  ...           45               6         10\n",
              "4  4546233126       1443000       1  ...           49               7         12\n",
              "\n",
              "[5 rows x 59 columns]"
            ]
          },
          "metadata": {
            "tags": []
          },
          "execution_count": 4
        },
        {
          "output_type": "stream",
          "text": [
            "time: 943 ms (started: 2021-01-09 23:28:48 +00:00)\n"
          ],
          "name": "stdout"
        }
      ]
    },
    {
      "cell_type": "markdown",
      "metadata": {
        "id": "X9pDQFttEduP"
      },
      "source": [
        "Mengambil Id terakhir untuk Id yang sama karena merupakan total dari Id sebelumnya"
      ]
    },
    {
      "cell_type": "code",
      "metadata": {
        "colab": {
          "base_uri": "https://localhost:8080/",
          "height": 245
        },
        "id": "oh4oboUnKYcN",
        "outputId": "08e094ca-a269-4db0-c92d-ddf0b827caaa"
      },
      "source": [
        "dfo = df.copy()\r\n",
        "df1 = dfo.groupby('gameId',as_index=False,sort=False).last()\r\n",
        "df1.head()"
      ],
      "execution_count": null,
      "outputs": [
        {
          "output_type": "execute_result",
          "data": {
            "text/html": [
              "<div>\n",
              "<style scoped>\n",
              "    .dataframe tbody tr th:only-of-type {\n",
              "        vertical-align: middle;\n",
              "    }\n",
              "\n",
              "    .dataframe tbody tr th {\n",
              "        vertical-align: top;\n",
              "    }\n",
              "\n",
              "    .dataframe thead th {\n",
              "        text-align: right;\n",
              "    }\n",
              "</style>\n",
              "<table border=\"1\" class=\"dataframe\">\n",
              "  <thead>\n",
              "    <tr style=\"text-align: right;\">\n",
              "      <th></th>\n",
              "      <th>gameId</th>\n",
              "      <th>gameDuration</th>\n",
              "      <th>hasWon</th>\n",
              "      <th>frame</th>\n",
              "      <th>goldDiff</th>\n",
              "      <th>expDiff</th>\n",
              "      <th>champLevelDiff</th>\n",
              "      <th>isFirstTower</th>\n",
              "      <th>isFirstBlood</th>\n",
              "      <th>killedFireDrake</th>\n",
              "      <th>killedWaterDrake</th>\n",
              "      <th>killedAirDrake</th>\n",
              "      <th>killedEarthDrake</th>\n",
              "      <th>killedElderDrake</th>\n",
              "      <th>lostFireDrake</th>\n",
              "      <th>lostWaterDrake</th>\n",
              "      <th>lostAirDrake</th>\n",
              "      <th>lostEarthDrake</th>\n",
              "      <th>lostElderDrake</th>\n",
              "      <th>killedBaronNashor</th>\n",
              "      <th>lostBaronNashor</th>\n",
              "      <th>killedRiftHerald</th>\n",
              "      <th>lostRiftHerald</th>\n",
              "      <th>destroyedTopInhibitor</th>\n",
              "      <th>destroyedMidInhibitor</th>\n",
              "      <th>destroyedBotInhibitor</th>\n",
              "      <th>lostTopInhibitor</th>\n",
              "      <th>lostMidInhibitor</th>\n",
              "      <th>lostBotInhibitor</th>\n",
              "      <th>destroyedTopNexusTurret</th>\n",
              "      <th>destroyedMidNexusTurret</th>\n",
              "      <th>destroyedBotNexusTurret</th>\n",
              "      <th>lostTopNexusTurret</th>\n",
              "      <th>lostMidNexusTurret</th>\n",
              "      <th>lostBotNexusTurret</th>\n",
              "      <th>destroyedTopBaseTurret</th>\n",
              "      <th>destroyedMidBaseTurret</th>\n",
              "      <th>destroyedBotBaseTurret</th>\n",
              "      <th>lostTopBaseTurret</th>\n",
              "      <th>lostMidBaseTurret</th>\n",
              "      <th>lostBotBaseTurret</th>\n",
              "      <th>destroyedTopInnerTurret</th>\n",
              "      <th>destroyedMidInnerTurret</th>\n",
              "      <th>destroyedBotInnerTurret</th>\n",
              "      <th>lostTopInnerTurret</th>\n",
              "      <th>lostMidInnerTurret</th>\n",
              "      <th>lostBotInnerTurret</th>\n",
              "      <th>destroyedTopOuterTurret</th>\n",
              "      <th>destroyedMidOuterTurret</th>\n",
              "      <th>destroyedBotOuterTurret</th>\n",
              "      <th>lostTopOuterTurret</th>\n",
              "      <th>lostMidOuterTurret</th>\n",
              "      <th>lostBotOuterTurret</th>\n",
              "      <th>kills</th>\n",
              "      <th>deaths</th>\n",
              "      <th>assists</th>\n",
              "      <th>wardsPlaced</th>\n",
              "      <th>wardsDestroyed</th>\n",
              "      <th>wardsLost</th>\n",
              "    </tr>\n",
              "  </thead>\n",
              "  <tbody>\n",
              "    <tr>\n",
              "      <th>0</th>\n",
              "      <td>4546233126</td>\n",
              "      <td>1443000</td>\n",
              "      <td>1</td>\n",
              "      <td>24</td>\n",
              "      <td>9426</td>\n",
              "      <td>11980</td>\n",
              "      <td>1.8</td>\n",
              "      <td>1</td>\n",
              "      <td>1</td>\n",
              "      <td>2</td>\n",
              "      <td>0</td>\n",
              "      <td>0</td>\n",
              "      <td>1</td>\n",
              "      <td>0</td>\n",
              "      <td>0</td>\n",
              "      <td>1</td>\n",
              "      <td>0</td>\n",
              "      <td>0</td>\n",
              "      <td>0</td>\n",
              "      <td>1</td>\n",
              "      <td>0</td>\n",
              "      <td>1</td>\n",
              "      <td>1</td>\n",
              "      <td>0</td>\n",
              "      <td>0</td>\n",
              "      <td>1</td>\n",
              "      <td>0</td>\n",
              "      <td>0</td>\n",
              "      <td>0</td>\n",
              "      <td>0</td>\n",
              "      <td>0</td>\n",
              "      <td>1</td>\n",
              "      <td>0</td>\n",
              "      <td>0</td>\n",
              "      <td>0</td>\n",
              "      <td>0</td>\n",
              "      <td>0</td>\n",
              "      <td>0</td>\n",
              "      <td>0</td>\n",
              "      <td>0</td>\n",
              "      <td>0</td>\n",
              "      <td>0</td>\n",
              "      <td>0</td>\n",
              "      <td>1</td>\n",
              "      <td>0</td>\n",
              "      <td>0</td>\n",
              "      <td>0</td>\n",
              "      <td>1</td>\n",
              "      <td>0</td>\n",
              "      <td>1</td>\n",
              "      <td>0</td>\n",
              "      <td>1</td>\n",
              "      <td>0</td>\n",
              "      <td>26</td>\n",
              "      <td>15</td>\n",
              "      <td>36</td>\n",
              "      <td>85</td>\n",
              "      <td>11</td>\n",
              "      <td>14</td>\n",
              "    </tr>\n",
              "    <tr>\n",
              "      <th>1</th>\n",
              "      <td>4438212663</td>\n",
              "      <td>1241000</td>\n",
              "      <td>1</td>\n",
              "      <td>20</td>\n",
              "      <td>9779</td>\n",
              "      <td>11356</td>\n",
              "      <td>2.2</td>\n",
              "      <td>1</td>\n",
              "      <td>1</td>\n",
              "      <td>0</td>\n",
              "      <td>0</td>\n",
              "      <td>1</td>\n",
              "      <td>0</td>\n",
              "      <td>0</td>\n",
              "      <td>0</td>\n",
              "      <td>1</td>\n",
              "      <td>0</td>\n",
              "      <td>0</td>\n",
              "      <td>0</td>\n",
              "      <td>0</td>\n",
              "      <td>0</td>\n",
              "      <td>0</td>\n",
              "      <td>2</td>\n",
              "      <td>0</td>\n",
              "      <td>0</td>\n",
              "      <td>1</td>\n",
              "      <td>0</td>\n",
              "      <td>0</td>\n",
              "      <td>0</td>\n",
              "      <td>0</td>\n",
              "      <td>0</td>\n",
              "      <td>1</td>\n",
              "      <td>0</td>\n",
              "      <td>0</td>\n",
              "      <td>0</td>\n",
              "      <td>0</td>\n",
              "      <td>0</td>\n",
              "      <td>1</td>\n",
              "      <td>0</td>\n",
              "      <td>0</td>\n",
              "      <td>0</td>\n",
              "      <td>0</td>\n",
              "      <td>0</td>\n",
              "      <td>1</td>\n",
              "      <td>0</td>\n",
              "      <td>0</td>\n",
              "      <td>0</td>\n",
              "      <td>0</td>\n",
              "      <td>1</td>\n",
              "      <td>0</td>\n",
              "      <td>1</td>\n",
              "      <td>0</td>\n",
              "      <td>0</td>\n",
              "      <td>25</td>\n",
              "      <td>9</td>\n",
              "      <td>35</td>\n",
              "      <td>36</td>\n",
              "      <td>7</td>\n",
              "      <td>10</td>\n",
              "    </tr>\n",
              "    <tr>\n",
              "      <th>2</th>\n",
              "      <td>4402345420</td>\n",
              "      <td>1790000</td>\n",
              "      <td>1</td>\n",
              "      <td>30</td>\n",
              "      <td>4118</td>\n",
              "      <td>6593</td>\n",
              "      <td>0.8</td>\n",
              "      <td>1</td>\n",
              "      <td>1</td>\n",
              "      <td>1</td>\n",
              "      <td>0</td>\n",
              "      <td>1</td>\n",
              "      <td>1</td>\n",
              "      <td>0</td>\n",
              "      <td>0</td>\n",
              "      <td>0</td>\n",
              "      <td>0</td>\n",
              "      <td>1</td>\n",
              "      <td>0</td>\n",
              "      <td>1</td>\n",
              "      <td>0</td>\n",
              "      <td>0</td>\n",
              "      <td>2</td>\n",
              "      <td>0</td>\n",
              "      <td>0</td>\n",
              "      <td>1</td>\n",
              "      <td>0</td>\n",
              "      <td>0</td>\n",
              "      <td>0</td>\n",
              "      <td>0</td>\n",
              "      <td>0</td>\n",
              "      <td>0</td>\n",
              "      <td>0</td>\n",
              "      <td>0</td>\n",
              "      <td>0</td>\n",
              "      <td>0</td>\n",
              "      <td>0</td>\n",
              "      <td>2</td>\n",
              "      <td>0</td>\n",
              "      <td>0</td>\n",
              "      <td>0</td>\n",
              "      <td>0</td>\n",
              "      <td>0</td>\n",
              "      <td>0</td>\n",
              "      <td>0</td>\n",
              "      <td>0</td>\n",
              "      <td>0</td>\n",
              "      <td>0</td>\n",
              "      <td>1</td>\n",
              "      <td>1</td>\n",
              "      <td>1</td>\n",
              "      <td>0</td>\n",
              "      <td>0</td>\n",
              "      <td>36</td>\n",
              "      <td>25</td>\n",
              "      <td>47</td>\n",
              "      <td>59</td>\n",
              "      <td>16</td>\n",
              "      <td>19</td>\n",
              "    </tr>\n",
              "    <tr>\n",
              "      <th>3</th>\n",
              "      <td>4546761795</td>\n",
              "      <td>2065000</td>\n",
              "      <td>0</td>\n",
              "      <td>34</td>\n",
              "      <td>-3706</td>\n",
              "      <td>-10219</td>\n",
              "      <td>-1.2</td>\n",
              "      <td>1</td>\n",
              "      <td>1</td>\n",
              "      <td>0</td>\n",
              "      <td>1</td>\n",
              "      <td>0</td>\n",
              "      <td>1</td>\n",
              "      <td>0</td>\n",
              "      <td>3</td>\n",
              "      <td>0</td>\n",
              "      <td>0</td>\n",
              "      <td>0</td>\n",
              "      <td>0</td>\n",
              "      <td>0</td>\n",
              "      <td>2</td>\n",
              "      <td>0</td>\n",
              "      <td>2</td>\n",
              "      <td>0</td>\n",
              "      <td>0</td>\n",
              "      <td>0</td>\n",
              "      <td>0</td>\n",
              "      <td>0</td>\n",
              "      <td>0</td>\n",
              "      <td>0</td>\n",
              "      <td>0</td>\n",
              "      <td>0</td>\n",
              "      <td>0</td>\n",
              "      <td>0</td>\n",
              "      <td>0</td>\n",
              "      <td>0</td>\n",
              "      <td>0</td>\n",
              "      <td>0</td>\n",
              "      <td>0</td>\n",
              "      <td>0</td>\n",
              "      <td>0</td>\n",
              "      <td>0</td>\n",
              "      <td>0</td>\n",
              "      <td>1</td>\n",
              "      <td>0</td>\n",
              "      <td>1</td>\n",
              "      <td>0</td>\n",
              "      <td>0</td>\n",
              "      <td>0</td>\n",
              "      <td>0</td>\n",
              "      <td>1</td>\n",
              "      <td>1</td>\n",
              "      <td>1</td>\n",
              "      <td>33</td>\n",
              "      <td>26</td>\n",
              "      <td>55</td>\n",
              "      <td>64</td>\n",
              "      <td>14</td>\n",
              "      <td>24</td>\n",
              "    </tr>\n",
              "    <tr>\n",
              "      <th>4</th>\n",
              "      <td>4528965743</td>\n",
              "      <td>1307000</td>\n",
              "      <td>0</td>\n",
              "      <td>22</td>\n",
              "      <td>-15976</td>\n",
              "      <td>-10838</td>\n",
              "      <td>-1.4</td>\n",
              "      <td>0</td>\n",
              "      <td>1</td>\n",
              "      <td>0</td>\n",
              "      <td>0</td>\n",
              "      <td>0</td>\n",
              "      <td>0</td>\n",
              "      <td>0</td>\n",
              "      <td>1</td>\n",
              "      <td>1</td>\n",
              "      <td>1</td>\n",
              "      <td>0</td>\n",
              "      <td>0</td>\n",
              "      <td>0</td>\n",
              "      <td>0</td>\n",
              "      <td>0</td>\n",
              "      <td>2</td>\n",
              "      <td>0</td>\n",
              "      <td>0</td>\n",
              "      <td>0</td>\n",
              "      <td>0</td>\n",
              "      <td>0</td>\n",
              "      <td>0</td>\n",
              "      <td>0</td>\n",
              "      <td>0</td>\n",
              "      <td>0</td>\n",
              "      <td>0</td>\n",
              "      <td>0</td>\n",
              "      <td>1</td>\n",
              "      <td>0</td>\n",
              "      <td>0</td>\n",
              "      <td>0</td>\n",
              "      <td>0</td>\n",
              "      <td>0</td>\n",
              "      <td>2</td>\n",
              "      <td>0</td>\n",
              "      <td>0</td>\n",
              "      <td>0</td>\n",
              "      <td>1</td>\n",
              "      <td>0</td>\n",
              "      <td>0</td>\n",
              "      <td>0</td>\n",
              "      <td>0</td>\n",
              "      <td>0</td>\n",
              "      <td>1</td>\n",
              "      <td>1</td>\n",
              "      <td>1</td>\n",
              "      <td>9</td>\n",
              "      <td>27</td>\n",
              "      <td>9</td>\n",
              "      <td>26</td>\n",
              "      <td>3</td>\n",
              "      <td>9</td>\n",
              "    </tr>\n",
              "  </tbody>\n",
              "</table>\n",
              "</div>"
            ],
            "text/plain": [
              "       gameId  gameDuration  hasWon  ...  wardsPlaced  wardsDestroyed  wardsLost\n",
              "0  4546233126       1443000       1  ...           85              11         14\n",
              "1  4438212663       1241000       1  ...           36               7         10\n",
              "2  4402345420       1790000       1  ...           59              16         19\n",
              "3  4546761795       2065000       0  ...           64              14         24\n",
              "4  4528965743       1307000       0  ...           26               3          9\n",
              "\n",
              "[5 rows x 59 columns]"
            ]
          },
          "metadata": {
            "tags": []
          },
          "execution_count": 5
        },
        {
          "output_type": "stream",
          "text": [
            "time: 270 ms (started: 2021-01-09 23:28:52 +00:00)\n"
          ],
          "name": "stdout"
        }
      ]
    },
    {
      "cell_type": "markdown",
      "metadata": {
        "id": "uOXuxMRXEI8d"
      },
      "source": [
        "Mengambil hanya kolom yang bertipe numerik saja"
      ]
    },
    {
      "cell_type": "code",
      "metadata": {
        "colab": {
          "base_uri": "https://localhost:8080/"
        },
        "id": "yjzHKK88wRbf",
        "outputId": "30c77e72-ce75-4cc4-cdad-6010b2ca8faf"
      },
      "source": [
        "numeric = []\r\n",
        "for col in df.drop(columns=['gameId']).columns:\r\n",
        "  print(df[col].dtypes)\r\n",
        "  if df[col].dtypes != 'object':\r\n",
        "    numeric.append(col)\r\n",
        "numeric"
      ],
      "execution_count": null,
      "outputs": [
        {
          "output_type": "stream",
          "text": [
            "int64\n",
            "int64\n",
            "int64\n",
            "int64\n",
            "int64\n",
            "float64\n",
            "int64\n",
            "int64\n",
            "int64\n",
            "int64\n",
            "int64\n",
            "int64\n",
            "int64\n",
            "int64\n",
            "int64\n",
            "int64\n",
            "int64\n",
            "int64\n",
            "int64\n",
            "int64\n",
            "int64\n",
            "int64\n",
            "int64\n",
            "int64\n",
            "int64\n",
            "int64\n",
            "int64\n",
            "int64\n",
            "int64\n",
            "int64\n",
            "int64\n",
            "int64\n",
            "int64\n",
            "int64\n",
            "int64\n",
            "int64\n",
            "int64\n",
            "int64\n",
            "int64\n",
            "int64\n",
            "int64\n",
            "int64\n",
            "int64\n",
            "int64\n",
            "int64\n",
            "int64\n",
            "int64\n",
            "int64\n",
            "int64\n",
            "int64\n",
            "int64\n",
            "int64\n",
            "int64\n",
            "int64\n",
            "int64\n",
            "int64\n",
            "int64\n",
            "int64\n"
          ],
          "name": "stdout"
        },
        {
          "output_type": "execute_result",
          "data": {
            "text/plain": [
              "['gameDuration',\n",
              " 'hasWon',\n",
              " 'frame',\n",
              " 'goldDiff',\n",
              " 'expDiff',\n",
              " 'champLevelDiff',\n",
              " 'isFirstTower',\n",
              " 'isFirstBlood',\n",
              " 'killedFireDrake',\n",
              " 'killedWaterDrake',\n",
              " 'killedAirDrake',\n",
              " 'killedEarthDrake',\n",
              " 'killedElderDrake',\n",
              " 'lostFireDrake',\n",
              " 'lostWaterDrake',\n",
              " 'lostAirDrake',\n",
              " 'lostEarthDrake',\n",
              " 'lostElderDrake',\n",
              " 'killedBaronNashor',\n",
              " 'lostBaronNashor',\n",
              " 'killedRiftHerald',\n",
              " 'lostRiftHerald',\n",
              " 'destroyedTopInhibitor',\n",
              " 'destroyedMidInhibitor',\n",
              " 'destroyedBotInhibitor',\n",
              " 'lostTopInhibitor',\n",
              " 'lostMidInhibitor',\n",
              " 'lostBotInhibitor',\n",
              " 'destroyedTopNexusTurret',\n",
              " 'destroyedMidNexusTurret',\n",
              " 'destroyedBotNexusTurret',\n",
              " 'lostTopNexusTurret',\n",
              " 'lostMidNexusTurret',\n",
              " 'lostBotNexusTurret',\n",
              " 'destroyedTopBaseTurret',\n",
              " 'destroyedMidBaseTurret',\n",
              " 'destroyedBotBaseTurret',\n",
              " 'lostTopBaseTurret',\n",
              " 'lostMidBaseTurret',\n",
              " 'lostBotBaseTurret',\n",
              " 'destroyedTopInnerTurret',\n",
              " 'destroyedMidInnerTurret',\n",
              " 'destroyedBotInnerTurret',\n",
              " 'lostTopInnerTurret',\n",
              " 'lostMidInnerTurret',\n",
              " 'lostBotInnerTurret',\n",
              " 'destroyedTopOuterTurret',\n",
              " 'destroyedMidOuterTurret',\n",
              " 'destroyedBotOuterTurret',\n",
              " 'lostTopOuterTurret',\n",
              " 'lostMidOuterTurret',\n",
              " 'lostBotOuterTurret',\n",
              " 'kills',\n",
              " 'deaths',\n",
              " 'assists',\n",
              " 'wardsPlaced',\n",
              " 'wardsDestroyed',\n",
              " 'wardsLost']"
            ]
          },
          "metadata": {
            "tags": []
          },
          "execution_count": 6
        },
        {
          "output_type": "stream",
          "text": [
            "time: 48.2 ms (started: 2021-01-09 23:28:55 +00:00)\n"
          ],
          "name": "stdout"
        }
      ]
    },
    {
      "cell_type": "markdown",
      "metadata": {
        "id": "p7cP9BtqDoYY"
      },
      "source": [
        "Membagi data menjadi fitur (X) dan target (y)"
      ]
    },
    {
      "cell_type": "markdown",
      "metadata": {
        "id": "9FR03TwMDvuV"
      },
      "source": [
        "Kami tidak menggunakan semua fitur, dan hanya menggunakan yang paling berpengaruh saja dalam suatu kemenangan"
      ]
    },
    {
      "cell_type": "code",
      "metadata": {
        "colab": {
          "base_uri": "https://localhost:8080/"
        },
        "id": "WQVxcJ99yWSg",
        "outputId": "c6668243-d6d3-4e69-bf22-e6260e7375e3"
      },
      "source": [
        "X = df1[['goldDiff', 'expDiff','champLevelDiff','killedFireDrake','killedWaterDrake','killedAirDrake','killedEarthDrake','killedElderDrake','lostFireDrake','lostWaterDrake','lostAirDrake','lostEarthDrake','lostElderDrake','killedBaronNashor','lostBaronNashor','killedRiftHerald','lostRiftHerald','kills','deaths','assists','wardsPlaced','wardsDestroyed','wardsLost']] # Features\r\n",
        "y = df1[['hasWon']] # Target variable"
      ],
      "execution_count": null,
      "outputs": [
        {
          "output_type": "stream",
          "text": [
            "time: 5.46 ms (started: 2021-01-09 23:29:01 +00:00)\n"
          ],
          "name": "stdout"
        }
      ]
    },
    {
      "cell_type": "markdown",
      "metadata": {
        "id": "wcZPYsf2DiI3"
      },
      "source": [
        "Melakukan normalisasi pada setiap fitur"
      ]
    },
    {
      "cell_type": "code",
      "metadata": {
        "colab": {
          "base_uri": "https://localhost:8080/"
        },
        "id": "CFVtzrglyiul",
        "outputId": "4c7a2097-9219-4eb4-94a1-f29dd3afee76"
      },
      "source": [
        "scaler = MinMaxScaler()\r\n",
        "X_scaled = scaler.fit_transform(X)\r\n",
        "X_scaled"
      ],
      "execution_count": null,
      "outputs": [
        {
          "output_type": "execute_result",
          "data": {
            "text/plain": [
              "array([[0.68882471, 0.58668919, 0.74358974, ..., 0.08110781, 0.09565217,\n",
              "        0.13084112],\n",
              "       [0.69666741, 0.57845569, 0.79487179, ..., 0.03264095, 0.06086957,\n",
              "        0.09345794],\n",
              "       [0.57089536, 0.51560933, 0.61538462, ..., 0.0553907 , 0.13913043,\n",
              "        0.17757009],\n",
              "       ...,\n",
              "       [0.51277494, 0.37702539, 0.48717949, ..., 0.30761622, 0.16521739,\n",
              "        0.14953271],\n",
              "       [0.29004666, 0.25051459, 0.30769231, ..., 0.07616222, 0.15652174,\n",
              "        0.1588785 ],\n",
              "       [0.35496556, 0.32840291, 0.35897436, ..., 0.02769535, 0.05217391,\n",
              "        0.09345794]])"
            ]
          },
          "metadata": {
            "tags": []
          },
          "execution_count": 8
        },
        {
          "output_type": "stream",
          "text": [
            "time: 18.4 ms (started: 2021-01-09 23:29:05 +00:00)\n"
          ],
          "name": "stdout"
        }
      ]
    },
    {
      "cell_type": "markdown",
      "metadata": {
        "id": "DYGlrevsDekD"
      },
      "source": [
        "Membagi data menjadi train dan test"
      ]
    },
    {
      "cell_type": "code",
      "metadata": {
        "colab": {
          "base_uri": "https://localhost:8080/"
        },
        "id": "98ZlclPSymkT",
        "outputId": "5a035794-1a31-4106-b89e-f3d464c2be8e"
      },
      "source": [
        "X_train, X_test, y_train, y_test = train_test_split(X_scaled, y, test_size=0.1, random_state=42)\r\n",
        "print(len(X_train), len(y_train), len(X_test), len(y_test))"
      ],
      "execution_count": null,
      "outputs": [
        {
          "output_type": "stream",
          "text": [
            "22420 22420 2492 2492\n",
            "time: 31 ms (started: 2021-01-09 23:51:33 +00:00)\n"
          ],
          "name": "stdout"
        }
      ]
    },
    {
      "cell_type": "markdown",
      "metadata": {
        "id": "_K31qgGsDa_C"
      },
      "source": [
        "Mengubah dataframe menjadi 3 dimensi"
      ]
    },
    {
      "cell_type": "code",
      "metadata": {
        "colab": {
          "base_uri": "https://localhost:8080/"
        },
        "id": "hO3yiEJvy9UX",
        "outputId": "565cf988-f863-480a-9cc6-6537d8805155"
      },
      "source": [
        "X_train_reshaped = X_train.reshape(X_train.shape[0], X_train.shape[1], 1)\r\n",
        "X_train_reshaped.shape[1:3]"
      ],
      "execution_count": null,
      "outputs": [
        {
          "output_type": "execute_result",
          "data": {
            "text/plain": [
              "(23, 1)"
            ]
          },
          "metadata": {
            "tags": []
          },
          "execution_count": 19
        },
        {
          "output_type": "stream",
          "text": [
            "time: 4.72 ms (started: 2021-01-09 23:51:35 +00:00)\n"
          ],
          "name": "stdout"
        }
      ]
    },
    {
      "cell_type": "code",
      "metadata": {
        "colab": {
          "base_uri": "https://localhost:8080/"
        },
        "id": "aIkXaGmBzCvv",
        "outputId": "7c6e59f6-eb37-4c61-c765-8e69a0f0ae0b"
      },
      "source": [
        "X_test_reshaped = X_test.reshape(X_test.shape[0], X_test.shape[1], 1)\r\n",
        "X_test_reshaped.shape"
      ],
      "execution_count": null,
      "outputs": [
        {
          "output_type": "execute_result",
          "data": {
            "text/plain": [
              "(2492, 23, 1)"
            ]
          },
          "metadata": {
            "tags": []
          },
          "execution_count": 20
        },
        {
          "output_type": "stream",
          "text": [
            "time: 4.5 ms (started: 2021-01-09 23:51:37 +00:00)\n"
          ],
          "name": "stdout"
        }
      ]
    },
    {
      "cell_type": "markdown",
      "metadata": {
        "id": "6i7737N9DWeo"
      },
      "source": [
        "Menambahkan conv layer 1, conv layer 2, dan output layer pada CNN"
      ]
    },
    {
      "cell_type": "code",
      "metadata": {
        "colab": {
          "base_uri": "https://localhost:8080/"
        },
        "id": "PHaORWudINmH",
        "outputId": "a0675f0f-55cf-4dd9-c587-a8e1eeecec6b"
      },
      "source": [
        "model = Sequential()\r\n",
        "\r\n",
        "# Hidden Layer 1\r\n",
        "model.add(Conv1D(32, 4, input_shape=X_train_reshaped.shape[1:3], activation='relu'))\r\n",
        "model.add(Dropout(0.3))\r\n",
        "model.add(MaxPooling1D(1))\r\n",
        "\r\n",
        "# Hidden Layer 2\r\n",
        "model.add(Conv1D(16, 2, activation='relu'))\r\n",
        "model.add(Dropout(0.3))\r\n",
        "model.add(MaxPooling1D(1))\r\n",
        "\r\n",
        "model.add(Flatten())\r\n",
        "model.add(Dense(1, activation='sigmoid'))\r\n",
        "model.summary()"
      ],
      "execution_count": null,
      "outputs": [
        {
          "output_type": "stream",
          "text": [
            "Model: \"sequential_1\"\n",
            "_________________________________________________________________\n",
            "Layer (type)                 Output Shape              Param #   \n",
            "=================================================================\n",
            "conv1d_2 (Conv1D)            (None, 20, 32)            160       \n",
            "_________________________________________________________________\n",
            "dropout_2 (Dropout)          (None, 20, 32)            0         \n",
            "_________________________________________________________________\n",
            "max_pooling1d_2 (MaxPooling1 (None, 20, 32)            0         \n",
            "_________________________________________________________________\n",
            "conv1d_3 (Conv1D)            (None, 19, 16)            1040      \n",
            "_________________________________________________________________\n",
            "dropout_3 (Dropout)          (None, 19, 16)            0         \n",
            "_________________________________________________________________\n",
            "max_pooling1d_3 (MaxPooling1 (None, 19, 16)            0         \n",
            "_________________________________________________________________\n",
            "flatten_1 (Flatten)          (None, 304)               0         \n",
            "_________________________________________________________________\n",
            "dense_1 (Dense)              (None, 1)                 305       \n",
            "=================================================================\n",
            "Total params: 1,505\n",
            "Trainable params: 1,505\n",
            "Non-trainable params: 0\n",
            "_________________________________________________________________\n",
            "time: 70.6 ms (started: 2021-01-09 23:51:39 +00:00)\n"
          ],
          "name": "stdout"
        }
      ]
    },
    {
      "cell_type": "markdown",
      "metadata": {
        "id": "o5N1etQrKGO0"
      },
      "source": [
        "## Optimizer"
      ]
    },
    {
      "cell_type": "markdown",
      "metadata": {
        "id": "KXcv_VQgDMOF"
      },
      "source": [
        "Di Run salah satu untuk optimizer nya"
      ]
    },
    {
      "cell_type": "markdown",
      "metadata": {
        "id": "Cy2JJ1SGA7Mr"
      },
      "source": [
        "Menggunakan SGD optimizer"
      ]
    },
    {
      "cell_type": "markdown",
      "metadata": {
        "id": "S7JF6MhB2ryD"
      },
      "source": [
        "Stochastic Gradient Descent (SGD) bekerja dengan menjaga satu learning rate untuk semua weight update dan learning rate tidak berubah saat training"
      ]
    },
    {
      "cell_type": "code",
      "metadata": {
        "colab": {
          "base_uri": "https://localhost:8080/"
        },
        "id": "lCElaFXuIPuq",
        "outputId": "0392b57c-0e61-4613-e312-eae8ff7b6925"
      },
      "source": [
        "optimizer = SGD(\r\n",
        "    learning_rate=0.001, momentum=0.0, nesterov=False, name=\"SGD\")"
      ],
      "execution_count": null,
      "outputs": [
        {
          "output_type": "stream",
          "text": [
            "time: 1.31 ms (started: 2021-01-09 23:51:43 +00:00)\n"
          ],
          "name": "stdout"
        }
      ]
    },
    {
      "cell_type": "markdown",
      "metadata": {
        "id": "fcxqsAZSA40T"
      },
      "source": [
        "Menggunakan Adam optimizer"
      ]
    },
    {
      "cell_type": "markdown",
      "metadata": {
        "id": "aTNBa2Ei4Qxr"
      },
      "source": [
        "Adam bekerja untuk memberikan optimization algorithm yang dapat menangani sparse gradients pada noisy problem"
      ]
    },
    {
      "cell_type": "code",
      "metadata": {
        "id": "ur-TRghBPRjx"
      },
      "source": [
        "optimizer = Adam(learning_rate=0.01, name=\"Adam\")"
      ],
      "execution_count": null,
      "outputs": []
    },
    {
      "cell_type": "markdown",
      "metadata": {
        "id": "hGcx6mmZA4Ci"
      },
      "source": [
        "Menggunakan RMSprop"
      ]
    },
    {
      "cell_type": "markdown",
      "metadata": {
        "id": "e4-oHjNy3m1g"
      },
      "source": [
        "Root Mean Square Propagation (RMSProp) bekerja dengan mempertahankan per-parameter learning rate yang diadaptasi berdasarkan average of recent magnitudes of the gradient untuk weight (mis. seberapa cepat ia berubah). Ini berarti algoritme berfungsi dengan baik pada masalah online dan non-stasioner (mis. noisy/berisik)"
      ]
    },
    {
      "cell_type": "code",
      "metadata": {
        "colab": {
          "base_uri": "https://localhost:8080/"
        },
        "id": "6QYjwVrfSSmZ",
        "outputId": "1e8521f3-c9bf-404c-b102-9ff907dcf853"
      },
      "source": [
        "optimizer = RMSprop(\r\n",
        "    learning_rate=0.01,\r\n",
        "    rho=0.9,\r\n",
        "    momentum=0.0,\r\n",
        "    epsilon=1e-07,\r\n",
        "    centered=False,\r\n",
        "    name=\"RMSprop\",\r\n",
        ")"
      ],
      "execution_count": null,
      "outputs": [
        {
          "output_type": "stream",
          "text": [
            "time: 1.61 ms (started: 2021-01-09 23:29:32 +00:00)\n"
          ],
          "name": "stdout"
        }
      ]
    },
    {
      "cell_type": "markdown",
      "metadata": {
        "id": "-wdOwpCYA1EE"
      },
      "source": [
        "Menggunkan Ftrl optimizer"
      ]
    },
    {
      "cell_type": "code",
      "metadata": {
        "id": "kRa75XFGyhgw"
      },
      "source": [
        "optimizer = Ftrl(\r\n",
        "    learning_rate=0.01,\r\n",
        "    learning_rate_power=-0.5,\r\n",
        "    initial_accumulator_value=0.1,\r\n",
        "    l1_regularization_strength=0.0,\r\n",
        "    l2_regularization_strength=0.0,\r\n",
        "    name=\"Ftrl\",\r\n",
        "    l2_shrinkage_regularization_strength=0.0,\r\n",
        "    beta=0.0,\r\n",
        ")"
      ],
      "execution_count": null,
      "outputs": []
    },
    {
      "cell_type": "markdown",
      "metadata": {
        "id": "abp2Ikz5KRA_"
      },
      "source": [
        "##Early Stopping"
      ]
    },
    {
      "cell_type": "markdown",
      "metadata": {
        "id": "JMH3MHipAxRT"
      },
      "source": [
        "Menambahkan early stopping untuk menghentikan iterasi ketika setelah beberapa iterasi akurasi tidak bertambah"
      ]
    },
    {
      "cell_type": "code",
      "metadata": {
        "colab": {
          "base_uri": "https://localhost:8080/"
        },
        "id": "On0dGQEWIdQa",
        "outputId": "931da201-7859-4f2d-be6a-0b0b77fc5b21"
      },
      "source": [
        "%%time\r\n",
        "early_stopping_monitor = EarlyStopping(\r\n",
        "    monitor='accuracy',\r\n",
        "    min_delta=0,\r\n",
        "    patience=100,\r\n",
        "    verbose=0,\r\n",
        "    mode='auto',\r\n",
        "    baseline=None,\r\n",
        "    restore_best_weights=True\r\n",
        ")\r\n",
        "model.compile(loss='binary_crossentropy', optimizer=optimizer, metrics='accuracy')\r\n",
        "\r\n",
        "history = model.fit(X_train_reshaped, y_train,\r\n",
        "          epochs=1000, \r\n",
        "          verbose=1,\r\n",
        "          validation_data=(X_test_reshaped, y_test),\r\n",
        "          callbacks=[early_stopping_monitor])"
      ],
      "execution_count": null,
      "outputs": [
        {
          "output_type": "stream",
          "text": [
            "Epoch 1/1000\n",
            "701/701 [==============================] - 3s 3ms/step - loss: 0.0798 - accuracy: 0.9722 - val_loss: 0.0705 - val_accuracy: 0.9739\n",
            "Epoch 2/1000\n",
            "701/701 [==============================] - 2s 3ms/step - loss: 0.0694 - accuracy: 0.9753 - val_loss: 0.0704 - val_accuracy: 0.9739\n",
            "Epoch 3/1000\n",
            "701/701 [==============================] - 2s 3ms/step - loss: 0.0732 - accuracy: 0.9733 - val_loss: 0.0705 - val_accuracy: 0.9735\n",
            "Epoch 4/1000\n",
            "701/701 [==============================] - 2s 3ms/step - loss: 0.0792 - accuracy: 0.9737 - val_loss: 0.0705 - val_accuracy: 0.9743\n",
            "Epoch 5/1000\n",
            "701/701 [==============================] - 2s 3ms/step - loss: 0.0763 - accuracy: 0.9740 - val_loss: 0.0705 - val_accuracy: 0.9735\n",
            "Epoch 6/1000\n",
            "701/701 [==============================] - 2s 3ms/step - loss: 0.0800 - accuracy: 0.9714 - val_loss: 0.0704 - val_accuracy: 0.9739\n",
            "Epoch 7/1000\n",
            "701/701 [==============================] - 2s 3ms/step - loss: 0.0776 - accuracy: 0.9724 - val_loss: 0.0704 - val_accuracy: 0.9739\n",
            "Epoch 8/1000\n",
            "701/701 [==============================] - 2s 3ms/step - loss: 0.0740 - accuracy: 0.9729 - val_loss: 0.0704 - val_accuracy: 0.9739\n",
            "Epoch 9/1000\n",
            "701/701 [==============================] - 2s 3ms/step - loss: 0.0735 - accuracy: 0.9741 - val_loss: 0.0704 - val_accuracy: 0.9735\n",
            "Epoch 10/1000\n",
            "701/701 [==============================] - 2s 3ms/step - loss: 0.0780 - accuracy: 0.9741 - val_loss: 0.0704 - val_accuracy: 0.9739\n",
            "Epoch 11/1000\n",
            "701/701 [==============================] - 2s 3ms/step - loss: 0.0739 - accuracy: 0.9734 - val_loss: 0.0704 - val_accuracy: 0.9739\n",
            "Epoch 12/1000\n",
            "701/701 [==============================] - 2s 3ms/step - loss: 0.0763 - accuracy: 0.9732 - val_loss: 0.0703 - val_accuracy: 0.9739\n",
            "Epoch 13/1000\n",
            "701/701 [==============================] - 2s 3ms/step - loss: 0.0766 - accuracy: 0.9730 - val_loss: 0.0704 - val_accuracy: 0.9739\n",
            "Epoch 14/1000\n",
            "701/701 [==============================] - 2s 3ms/step - loss: 0.0742 - accuracy: 0.9737 - val_loss: 0.0703 - val_accuracy: 0.9739\n",
            "Epoch 15/1000\n",
            "701/701 [==============================] - 2s 3ms/step - loss: 0.0734 - accuracy: 0.9753 - val_loss: 0.0703 - val_accuracy: 0.9739\n",
            "Epoch 16/1000\n",
            "701/701 [==============================] - 2s 3ms/step - loss: 0.0776 - accuracy: 0.9743 - val_loss: 0.0704 - val_accuracy: 0.9735\n",
            "Epoch 17/1000\n",
            "701/701 [==============================] - 2s 3ms/step - loss: 0.0785 - accuracy: 0.9736 - val_loss: 0.0704 - val_accuracy: 0.9743\n",
            "Epoch 18/1000\n",
            "701/701 [==============================] - 2s 3ms/step - loss: 0.0751 - accuracy: 0.9745 - val_loss: 0.0704 - val_accuracy: 0.9743\n",
            "Epoch 19/1000\n",
            "701/701 [==============================] - 2s 3ms/step - loss: 0.0713 - accuracy: 0.9743 - val_loss: 0.0706 - val_accuracy: 0.9747\n",
            "Epoch 20/1000\n",
            "701/701 [==============================] - 2s 3ms/step - loss: 0.0706 - accuracy: 0.9757 - val_loss: 0.0703 - val_accuracy: 0.9739\n",
            "Epoch 21/1000\n",
            "701/701 [==============================] - 2s 3ms/step - loss: 0.0775 - accuracy: 0.9734 - val_loss: 0.0703 - val_accuracy: 0.9739\n",
            "Epoch 22/1000\n",
            "701/701 [==============================] - 2s 3ms/step - loss: 0.0756 - accuracy: 0.9729 - val_loss: 0.0703 - val_accuracy: 0.9739\n",
            "Epoch 23/1000\n",
            "701/701 [==============================] - 2s 3ms/step - loss: 0.0726 - accuracy: 0.9743 - val_loss: 0.0703 - val_accuracy: 0.9735\n",
            "Epoch 24/1000\n",
            "701/701 [==============================] - 2s 3ms/step - loss: 0.0795 - accuracy: 0.9710 - val_loss: 0.0703 - val_accuracy: 0.9743\n",
            "Epoch 25/1000\n",
            "701/701 [==============================] - 2s 3ms/step - loss: 0.0735 - accuracy: 0.9737 - val_loss: 0.0703 - val_accuracy: 0.9739\n",
            "Epoch 26/1000\n",
            "701/701 [==============================] - 2s 3ms/step - loss: 0.0751 - accuracy: 0.9732 - val_loss: 0.0702 - val_accuracy: 0.9739\n",
            "Epoch 27/1000\n",
            "701/701 [==============================] - 2s 3ms/step - loss: 0.0762 - accuracy: 0.9741 - val_loss: 0.0702 - val_accuracy: 0.9739\n",
            "Epoch 28/1000\n",
            "701/701 [==============================] - 2s 3ms/step - loss: 0.0786 - accuracy: 0.9729 - val_loss: 0.0702 - val_accuracy: 0.9739\n",
            "Epoch 29/1000\n",
            "701/701 [==============================] - 2s 3ms/step - loss: 0.0808 - accuracy: 0.9712 - val_loss: 0.0702 - val_accuracy: 0.9739\n",
            "Epoch 30/1000\n",
            "701/701 [==============================] - 2s 3ms/step - loss: 0.0757 - accuracy: 0.9728 - val_loss: 0.0702 - val_accuracy: 0.9739\n",
            "Epoch 31/1000\n",
            "701/701 [==============================] - 2s 3ms/step - loss: 0.0754 - accuracy: 0.9738 - val_loss: 0.0702 - val_accuracy: 0.9739\n",
            "Epoch 32/1000\n",
            "701/701 [==============================] - 2s 3ms/step - loss: 0.0747 - accuracy: 0.9741 - val_loss: 0.0703 - val_accuracy: 0.9735\n",
            "Epoch 33/1000\n",
            "701/701 [==============================] - 2s 3ms/step - loss: 0.0782 - accuracy: 0.9763 - val_loss: 0.0702 - val_accuracy: 0.9735\n",
            "Epoch 34/1000\n",
            "701/701 [==============================] - 3s 4ms/step - loss: 0.0796 - accuracy: 0.9725 - val_loss: 0.0702 - val_accuracy: 0.9739\n",
            "Epoch 35/1000\n",
            "701/701 [==============================] - 3s 4ms/step - loss: 0.0733 - accuracy: 0.9738 - val_loss: 0.0702 - val_accuracy: 0.9739\n",
            "Epoch 36/1000\n",
            "701/701 [==============================] - 2s 3ms/step - loss: 0.0764 - accuracy: 0.9735 - val_loss: 0.0702 - val_accuracy: 0.9739\n",
            "Epoch 37/1000\n",
            "701/701 [==============================] - 2s 3ms/step - loss: 0.0776 - accuracy: 0.9729 - val_loss: 0.0702 - val_accuracy: 0.9739\n",
            "Epoch 38/1000\n",
            "701/701 [==============================] - 2s 3ms/step - loss: 0.0738 - accuracy: 0.9747 - val_loss: 0.0702 - val_accuracy: 0.9739\n",
            "Epoch 39/1000\n",
            "701/701 [==============================] - 2s 3ms/step - loss: 0.0759 - accuracy: 0.9735 - val_loss: 0.0702 - val_accuracy: 0.9739\n",
            "Epoch 40/1000\n",
            "701/701 [==============================] - 2s 3ms/step - loss: 0.0694 - accuracy: 0.9766 - val_loss: 0.0703 - val_accuracy: 0.9743\n",
            "Epoch 41/1000\n",
            "701/701 [==============================] - 2s 3ms/step - loss: 0.0777 - accuracy: 0.9723 - val_loss: 0.0702 - val_accuracy: 0.9735\n",
            "Epoch 42/1000\n",
            "701/701 [==============================] - 2s 3ms/step - loss: 0.0723 - accuracy: 0.9748 - val_loss: 0.0702 - val_accuracy: 0.9739\n",
            "Epoch 43/1000\n",
            "701/701 [==============================] - 2s 3ms/step - loss: 0.0766 - accuracy: 0.9740 - val_loss: 0.0702 - val_accuracy: 0.9735\n",
            "Epoch 44/1000\n",
            "701/701 [==============================] - 2s 3ms/step - loss: 0.0790 - accuracy: 0.9723 - val_loss: 0.0702 - val_accuracy: 0.9739\n",
            "Epoch 45/1000\n",
            "701/701 [==============================] - 2s 3ms/step - loss: 0.0808 - accuracy: 0.9718 - val_loss: 0.0702 - val_accuracy: 0.9739\n",
            "Epoch 46/1000\n",
            "701/701 [==============================] - 2s 3ms/step - loss: 0.0762 - accuracy: 0.9730 - val_loss: 0.0702 - val_accuracy: 0.9739\n",
            "Epoch 47/1000\n",
            "701/701 [==============================] - 2s 3ms/step - loss: 0.0729 - accuracy: 0.9733 - val_loss: 0.0701 - val_accuracy: 0.9739\n",
            "Epoch 48/1000\n",
            "701/701 [==============================] - 2s 3ms/step - loss: 0.0764 - accuracy: 0.9743 - val_loss: 0.0701 - val_accuracy: 0.9739\n",
            "Epoch 49/1000\n",
            "701/701 [==============================] - 2s 3ms/step - loss: 0.0725 - accuracy: 0.9748 - val_loss: 0.0701 - val_accuracy: 0.9739\n",
            "Epoch 50/1000\n",
            "701/701 [==============================] - 2s 3ms/step - loss: 0.0736 - accuracy: 0.9732 - val_loss: 0.0701 - val_accuracy: 0.9739\n",
            "Epoch 51/1000\n",
            "701/701 [==============================] - 2s 3ms/step - loss: 0.0802 - accuracy: 0.9716 - val_loss: 0.0701 - val_accuracy: 0.9739\n",
            "Epoch 52/1000\n",
            "701/701 [==============================] - 2s 3ms/step - loss: 0.0766 - accuracy: 0.9742 - val_loss: 0.0701 - val_accuracy: 0.9735\n",
            "Epoch 53/1000\n",
            "701/701 [==============================] - 2s 3ms/step - loss: 0.0766 - accuracy: 0.9739 - val_loss: 0.0700 - val_accuracy: 0.9739\n",
            "Epoch 54/1000\n",
            "701/701 [==============================] - 2s 3ms/step - loss: 0.0758 - accuracy: 0.9736 - val_loss: 0.0701 - val_accuracy: 0.9743\n",
            "Epoch 55/1000\n",
            "701/701 [==============================] - 2s 3ms/step - loss: 0.0738 - accuracy: 0.9736 - val_loss: 0.0700 - val_accuracy: 0.9739\n",
            "Epoch 56/1000\n",
            "701/701 [==============================] - 2s 3ms/step - loss: 0.0755 - accuracy: 0.9742 - val_loss: 0.0700 - val_accuracy: 0.9739\n",
            "Epoch 57/1000\n",
            "701/701 [==============================] - 2s 3ms/step - loss: 0.0773 - accuracy: 0.9749 - val_loss: 0.0701 - val_accuracy: 0.9739\n",
            "Epoch 58/1000\n",
            "701/701 [==============================] - 2s 3ms/step - loss: 0.0785 - accuracy: 0.9723 - val_loss: 0.0701 - val_accuracy: 0.9735\n",
            "Epoch 59/1000\n",
            "701/701 [==============================] - 2s 3ms/step - loss: 0.0756 - accuracy: 0.9745 - val_loss: 0.0700 - val_accuracy: 0.9739\n",
            "Epoch 60/1000\n",
            "701/701 [==============================] - 2s 3ms/step - loss: 0.0785 - accuracy: 0.9726 - val_loss: 0.0700 - val_accuracy: 0.9739\n",
            "Epoch 61/1000\n",
            "701/701 [==============================] - 2s 3ms/step - loss: 0.0743 - accuracy: 0.9744 - val_loss: 0.0700 - val_accuracy: 0.9739\n",
            "Epoch 62/1000\n",
            "701/701 [==============================] - 2s 3ms/step - loss: 0.0757 - accuracy: 0.9748 - val_loss: 0.0700 - val_accuracy: 0.9739\n",
            "Epoch 63/1000\n",
            "701/701 [==============================] - 2s 3ms/step - loss: 0.0757 - accuracy: 0.9739 - val_loss: 0.0700 - val_accuracy: 0.9739\n",
            "Epoch 64/1000\n",
            "701/701 [==============================] - 2s 3ms/step - loss: 0.0720 - accuracy: 0.9737 - val_loss: 0.0699 - val_accuracy: 0.9739\n",
            "Epoch 65/1000\n",
            "701/701 [==============================] - 2s 3ms/step - loss: 0.0744 - accuracy: 0.9728 - val_loss: 0.0699 - val_accuracy: 0.9739\n",
            "Epoch 66/1000\n",
            "701/701 [==============================] - 2s 3ms/step - loss: 0.0708 - accuracy: 0.9761 - val_loss: 0.0700 - val_accuracy: 0.9739\n",
            "Epoch 67/1000\n",
            "701/701 [==============================] - 2s 3ms/step - loss: 0.0753 - accuracy: 0.9749 - val_loss: 0.0699 - val_accuracy: 0.9739\n",
            "Epoch 68/1000\n",
            "701/701 [==============================] - 2s 3ms/step - loss: 0.0744 - accuracy: 0.9741 - val_loss: 0.0699 - val_accuracy: 0.9739\n",
            "Epoch 69/1000\n",
            "701/701 [==============================] - 2s 3ms/step - loss: 0.0798 - accuracy: 0.9718 - val_loss: 0.0699 - val_accuracy: 0.9739\n",
            "Epoch 70/1000\n",
            "701/701 [==============================] - 2s 3ms/step - loss: 0.0769 - accuracy: 0.9737 - val_loss: 0.0700 - val_accuracy: 0.9735\n",
            "Epoch 71/1000\n",
            "701/701 [==============================] - 2s 3ms/step - loss: 0.0719 - accuracy: 0.9758 - val_loss: 0.0699 - val_accuracy: 0.9739\n",
            "Epoch 72/1000\n",
            "701/701 [==============================] - 2s 3ms/step - loss: 0.0733 - accuracy: 0.9738 - val_loss: 0.0699 - val_accuracy: 0.9739\n",
            "Epoch 73/1000\n",
            "701/701 [==============================] - 2s 3ms/step - loss: 0.0740 - accuracy: 0.9735 - val_loss: 0.0699 - val_accuracy: 0.9739\n",
            "Epoch 74/1000\n",
            "701/701 [==============================] - 2s 3ms/step - loss: 0.0736 - accuracy: 0.9726 - val_loss: 0.0699 - val_accuracy: 0.9739\n",
            "Epoch 75/1000\n",
            "701/701 [==============================] - 2s 3ms/step - loss: 0.0733 - accuracy: 0.9751 - val_loss: 0.0699 - val_accuracy: 0.9739\n",
            "Epoch 76/1000\n",
            "701/701 [==============================] - 2s 3ms/step - loss: 0.0715 - accuracy: 0.9752 - val_loss: 0.0699 - val_accuracy: 0.9739\n",
            "Epoch 77/1000\n",
            "701/701 [==============================] - 3s 4ms/step - loss: 0.0742 - accuracy: 0.9743 - val_loss: 0.0699 - val_accuracy: 0.9739\n",
            "Epoch 78/1000\n",
            "701/701 [==============================] - 2s 3ms/step - loss: 0.0764 - accuracy: 0.9735 - val_loss: 0.0699 - val_accuracy: 0.9735\n",
            "Epoch 79/1000\n",
            "701/701 [==============================] - 2s 3ms/step - loss: 0.0716 - accuracy: 0.9738 - val_loss: 0.0699 - val_accuracy: 0.9739\n",
            "Epoch 80/1000\n",
            "701/701 [==============================] - 2s 3ms/step - loss: 0.0745 - accuracy: 0.9755 - val_loss: 0.0699 - val_accuracy: 0.9739\n",
            "Epoch 81/1000\n",
            "701/701 [==============================] - 3s 4ms/step - loss: 0.0733 - accuracy: 0.9746 - val_loss: 0.0700 - val_accuracy: 0.9739\n",
            "Epoch 82/1000\n",
            "701/701 [==============================] - 3s 4ms/step - loss: 0.0764 - accuracy: 0.9733 - val_loss: 0.0699 - val_accuracy: 0.9739\n",
            "Epoch 83/1000\n",
            "701/701 [==============================] - 3s 4ms/step - loss: 0.0725 - accuracy: 0.9742 - val_loss: 0.0699 - val_accuracy: 0.9739\n",
            "Epoch 84/1000\n",
            "701/701 [==============================] - 3s 4ms/step - loss: 0.0730 - accuracy: 0.9753 - val_loss: 0.0699 - val_accuracy: 0.9739\n",
            "Epoch 85/1000\n",
            "701/701 [==============================] - 2s 3ms/step - loss: 0.0710 - accuracy: 0.9760 - val_loss: 0.0699 - val_accuracy: 0.9739\n",
            "Epoch 86/1000\n",
            "701/701 [==============================] - 2s 3ms/step - loss: 0.0733 - accuracy: 0.9741 - val_loss: 0.0699 - val_accuracy: 0.9739\n",
            "Epoch 87/1000\n",
            "701/701 [==============================] - 2s 3ms/step - loss: 0.0762 - accuracy: 0.9739 - val_loss: 0.0698 - val_accuracy: 0.9739\n",
            "Epoch 88/1000\n",
            "701/701 [==============================] - 2s 3ms/step - loss: 0.0737 - accuracy: 0.9742 - val_loss: 0.0698 - val_accuracy: 0.9739\n",
            "Epoch 89/1000\n",
            "701/701 [==============================] - 2s 3ms/step - loss: 0.0765 - accuracy: 0.9744 - val_loss: 0.0700 - val_accuracy: 0.9743\n",
            "Epoch 90/1000\n",
            "701/701 [==============================] - 2s 3ms/step - loss: 0.0780 - accuracy: 0.9735 - val_loss: 0.0699 - val_accuracy: 0.9739\n",
            "Epoch 91/1000\n",
            "701/701 [==============================] - 2s 3ms/step - loss: 0.0737 - accuracy: 0.9752 - val_loss: 0.0699 - val_accuracy: 0.9739\n",
            "Epoch 92/1000\n",
            "701/701 [==============================] - 3s 4ms/step - loss: 0.0698 - accuracy: 0.9751 - val_loss: 0.0698 - val_accuracy: 0.9739\n",
            "Epoch 93/1000\n",
            "701/701 [==============================] - 2s 3ms/step - loss: 0.0789 - accuracy: 0.9738 - val_loss: 0.0698 - val_accuracy: 0.9739\n",
            "Epoch 94/1000\n",
            "701/701 [==============================] - 2s 3ms/step - loss: 0.0773 - accuracy: 0.9726 - val_loss: 0.0698 - val_accuracy: 0.9739\n",
            "Epoch 95/1000\n",
            "701/701 [==============================] - 2s 3ms/step - loss: 0.0717 - accuracy: 0.9752 - val_loss: 0.0699 - val_accuracy: 0.9739\n",
            "Epoch 96/1000\n",
            "701/701 [==============================] - 2s 3ms/step - loss: 0.0760 - accuracy: 0.9728 - val_loss: 0.0698 - val_accuracy: 0.9739\n",
            "Epoch 97/1000\n",
            "701/701 [==============================] - 2s 3ms/step - loss: 0.0773 - accuracy: 0.9728 - val_loss: 0.0698 - val_accuracy: 0.9735\n",
            "Epoch 98/1000\n",
            "701/701 [==============================] - 2s 3ms/step - loss: 0.0804 - accuracy: 0.9725 - val_loss: 0.0698 - val_accuracy: 0.9739\n",
            "Epoch 99/1000\n",
            "701/701 [==============================] - 2s 3ms/step - loss: 0.0807 - accuracy: 0.9727 - val_loss: 0.0698 - val_accuracy: 0.9739\n",
            "Epoch 100/1000\n",
            "701/701 [==============================] - 2s 3ms/step - loss: 0.0744 - accuracy: 0.9728 - val_loss: 0.0697 - val_accuracy: 0.9735\n",
            "Epoch 101/1000\n",
            "701/701 [==============================] - 2s 3ms/step - loss: 0.0759 - accuracy: 0.9735 - val_loss: 0.0697 - val_accuracy: 0.9739\n",
            "Epoch 102/1000\n",
            "701/701 [==============================] - 2s 3ms/step - loss: 0.0718 - accuracy: 0.9749 - val_loss: 0.0698 - val_accuracy: 0.9739\n",
            "Epoch 103/1000\n",
            "701/701 [==============================] - 2s 3ms/step - loss: 0.0763 - accuracy: 0.9745 - val_loss: 0.0697 - val_accuracy: 0.9735\n",
            "Epoch 104/1000\n",
            "701/701 [==============================] - 2s 3ms/step - loss: 0.0753 - accuracy: 0.9735 - val_loss: 0.0700 - val_accuracy: 0.9743\n",
            "Epoch 105/1000\n",
            "701/701 [==============================] - 2s 3ms/step - loss: 0.0728 - accuracy: 0.9750 - val_loss: 0.0698 - val_accuracy: 0.9739\n",
            "Epoch 106/1000\n",
            "701/701 [==============================] - 2s 3ms/step - loss: 0.0780 - accuracy: 0.9736 - val_loss: 0.0698 - val_accuracy: 0.9739\n",
            "Epoch 107/1000\n",
            "701/701 [==============================] - 2s 3ms/step - loss: 0.0764 - accuracy: 0.9733 - val_loss: 0.0698 - val_accuracy: 0.9739\n",
            "Epoch 108/1000\n",
            "701/701 [==============================] - 2s 3ms/step - loss: 0.0770 - accuracy: 0.9722 - val_loss: 0.0698 - val_accuracy: 0.9739\n",
            "Epoch 109/1000\n",
            "701/701 [==============================] - 2s 3ms/step - loss: 0.0732 - accuracy: 0.9753 - val_loss: 0.0700 - val_accuracy: 0.9747\n",
            "Epoch 110/1000\n",
            "701/701 [==============================] - 2s 3ms/step - loss: 0.0737 - accuracy: 0.9745 - val_loss: 0.0697 - val_accuracy: 0.9739\n",
            "Epoch 111/1000\n",
            "701/701 [==============================] - 2s 3ms/step - loss: 0.0709 - accuracy: 0.9746 - val_loss: 0.0698 - val_accuracy: 0.9739\n",
            "Epoch 112/1000\n",
            "701/701 [==============================] - 2s 3ms/step - loss: 0.0757 - accuracy: 0.9743 - val_loss: 0.0698 - val_accuracy: 0.9743\n",
            "Epoch 113/1000\n",
            "701/701 [==============================] - 2s 3ms/step - loss: 0.0705 - accuracy: 0.9763 - val_loss: 0.0697 - val_accuracy: 0.9739\n",
            "Epoch 114/1000\n",
            "701/701 [==============================] - 2s 3ms/step - loss: 0.0749 - accuracy: 0.9744 - val_loss: 0.0697 - val_accuracy: 0.9735\n",
            "Epoch 115/1000\n",
            "701/701 [==============================] - 2s 3ms/step - loss: 0.0771 - accuracy: 0.9722 - val_loss: 0.0697 - val_accuracy: 0.9735\n",
            "Epoch 116/1000\n",
            "701/701 [==============================] - 2s 3ms/step - loss: 0.0733 - accuracy: 0.9725 - val_loss: 0.0697 - val_accuracy: 0.9739\n",
            "Epoch 117/1000\n",
            "701/701 [==============================] - 2s 3ms/step - loss: 0.0768 - accuracy: 0.9736 - val_loss: 0.0697 - val_accuracy: 0.9739\n",
            "Epoch 118/1000\n",
            "701/701 [==============================] - 2s 4ms/step - loss: 0.0774 - accuracy: 0.9746 - val_loss: 0.0698 - val_accuracy: 0.9743\n",
            "Epoch 119/1000\n",
            "701/701 [==============================] - 2s 3ms/step - loss: 0.0699 - accuracy: 0.9751 - val_loss: 0.0697 - val_accuracy: 0.9739\n",
            "Epoch 120/1000\n",
            "701/701 [==============================] - 2s 3ms/step - loss: 0.0737 - accuracy: 0.9734 - val_loss: 0.0696 - val_accuracy: 0.9735\n",
            "Epoch 121/1000\n",
            "701/701 [==============================] - 2s 3ms/step - loss: 0.0731 - accuracy: 0.9753 - val_loss: 0.0696 - val_accuracy: 0.9735\n",
            "Epoch 122/1000\n",
            "701/701 [==============================] - 3s 4ms/step - loss: 0.0756 - accuracy: 0.9724 - val_loss: 0.0697 - val_accuracy: 0.9739\n",
            "Epoch 123/1000\n",
            "701/701 [==============================] - 2s 3ms/step - loss: 0.0736 - accuracy: 0.9749 - val_loss: 0.0697 - val_accuracy: 0.9739\n",
            "Epoch 124/1000\n",
            "701/701 [==============================] - 2s 4ms/step - loss: 0.0739 - accuracy: 0.9743 - val_loss: 0.0697 - val_accuracy: 0.9739\n",
            "Epoch 125/1000\n",
            "701/701 [==============================] - 2s 3ms/step - loss: 0.0783 - accuracy: 0.9734 - val_loss: 0.0696 - val_accuracy: 0.9735\n",
            "Epoch 126/1000\n",
            "701/701 [==============================] - 2s 3ms/step - loss: 0.0763 - accuracy: 0.9746 - val_loss: 0.0696 - val_accuracy: 0.9739\n",
            "Epoch 127/1000\n",
            "701/701 [==============================] - 2s 3ms/step - loss: 0.0732 - accuracy: 0.9739 - val_loss: 0.0697 - val_accuracy: 0.9739\n",
            "Epoch 128/1000\n",
            "701/701 [==============================] - 2s 3ms/step - loss: 0.0765 - accuracy: 0.9732 - val_loss: 0.0696 - val_accuracy: 0.9739\n",
            "Epoch 129/1000\n",
            "701/701 [==============================] - 2s 3ms/step - loss: 0.0788 - accuracy: 0.9721 - val_loss: 0.0696 - val_accuracy: 0.9739\n",
            "Epoch 130/1000\n",
            "701/701 [==============================] - 2s 3ms/step - loss: 0.0781 - accuracy: 0.9719 - val_loss: 0.0696 - val_accuracy: 0.9735\n",
            "Epoch 131/1000\n",
            "701/701 [==============================] - 2s 4ms/step - loss: 0.0713 - accuracy: 0.9746 - val_loss: 0.0696 - val_accuracy: 0.9739\n",
            "Epoch 132/1000\n",
            "701/701 [==============================] - 2s 3ms/step - loss: 0.0733 - accuracy: 0.9749 - val_loss: 0.0696 - val_accuracy: 0.9735\n",
            "Epoch 133/1000\n",
            "701/701 [==============================] - 2s 3ms/step - loss: 0.0759 - accuracy: 0.9723 - val_loss: 0.0696 - val_accuracy: 0.9735\n",
            "CPU times: user 6min 10s, sys: 48.6 s, total: 6min 59s\n",
            "Wall time: 5min 14s\n",
            "time: 5min 14s (started: 2021-01-10 00:23:35 +00:00)\n"
          ],
          "name": "stdout"
        }
      ]
    },
    {
      "cell_type": "markdown",
      "metadata": {
        "id": "TQli9dAEKW3s"
      },
      "source": [
        "##Visualisasi"
      ]
    },
    {
      "cell_type": "markdown",
      "metadata": {
        "id": "sspTGm1AAiHO"
      },
      "source": [
        "Visualisasi nilai loss dari setiap epoch"
      ]
    },
    {
      "cell_type": "code",
      "metadata": {
        "colab": {
          "base_uri": "https://localhost:8080/",
          "height": 284
        },
        "id": "KP6gjNeVVTIo",
        "outputId": "42ac5da2-e2b3-4fb8-91cd-b4d384c67de2"
      },
      "source": [
        "plt.plot(history.history['loss'], label='train')\r\n",
        "plt.plot(history.history['val_loss'], label='test')\r\n",
        "plt.legend()\r\n",
        "plt.show()"
      ],
      "execution_count": null,
      "outputs": [
        {
          "output_type": "display_data",
          "data": {
            "image/png": "[encoded data removed]",
            "text/plain": [
              "<Figure size 432x288 with 1 Axes>"
            ]
          },
          "metadata": {
            "tags": [],
            "needs_background": "light"
          }
        },
        {
          "output_type": "stream",
          "text": [
            "time: 188 ms (started: 2021-01-10 00:29:28 +00:00)\n"
          ],
          "name": "stdout"
        }
      ]
    },
    {
      "cell_type": "markdown",
      "metadata": {
        "id": "GB_XfCIJKaJr"
      },
      "source": [
        "##Akurasi"
      ]
    },
    {
      "cell_type": "markdown",
      "metadata": {
        "id": "e0Ldc2djAnLo"
      },
      "source": [
        "Akurasi Data Test"
      ]
    },
    {
      "cell_type": "code",
      "metadata": {
        "colab": {
          "base_uri": "https://localhost:8080/"
        },
        "id": "ZbQGR-HxVapZ",
        "outputId": "4d7cf219-b59c-4dc2-9eb1-ab3de4b843d8"
      },
      "source": [
        "preds = model.predict(X_test_reshaped)\r\n",
        "preds = np.round(preds, 0).reshape(preds.shape[0])\r\n",
        "acc = accuracy_score(y_test, preds)\r\n",
        "acc"
      ],
      "execution_count": null,
      "outputs": [
        {
          "output_type": "execute_result",
          "data": {
            "text/plain": [
              "0.9735152487961477"
            ]
          },
          "metadata": {
            "tags": []
          },
          "execution_count": 26
        },
        {
          "output_type": "stream",
          "text": [
            "time: 171 ms (started: 2021-01-10 00:29:33 +00:00)\n"
          ],
          "name": "stdout"
        }
      ]
    },
    {
      "cell_type": "markdown",
      "metadata": {
        "id": "zMfKPcDEAqGv"
      },
      "source": [
        "Akurasisi Data Train"
      ]
    },
    {
      "cell_type": "code",
      "metadata": {
        "colab": {
          "base_uri": "https://localhost:8080/"
        },
        "id": "ePxMUx4mVe_Q",
        "outputId": "1ddb9dee-b1de-4746-ddc1-cf236fa8df6c"
      },
      "source": [
        "preds = model.predict(X_train_reshaped)\r\n",
        "preds = np.round(preds, 0).reshape(preds.shape[0])\r\n",
        "acc = accuracy_score(y_train, preds)\r\n",
        "acc"
      ],
      "execution_count": null,
      "outputs": [
        {
          "output_type": "execute_result",
          "data": {
            "text/plain": [
              "0.976271186440678"
            ]
          },
          "metadata": {
            "tags": []
          },
          "execution_count": 27
        },
        {
          "output_type": "stream",
          "text": [
            "time: 609 ms (started: 2021-01-10 00:29:36 +00:00)\n"
          ],
          "name": "stdout"
        }
      ]
    }
  ]
}