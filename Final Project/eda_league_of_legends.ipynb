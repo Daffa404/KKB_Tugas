{
  "nbformat": 4,
  "nbformat_minor": 0,
  "metadata": {
    "colab": {
      "name": "eda_league_of_legends.ipynb",
      "provenance": [],
      "collapsed_sections": [],
      "toc_visible": true
    },
    "kernelspec": {
      "name": "python3",
      "display_name": "Python 3"
    }
  },
  "cells": [
    {
      "cell_type": "markdown",
      "metadata": {
        "id": "0WvkiexD8fzP"
      },
      "source": [
        "# **Impor Pustaka**"
      ]
    },
    {
      "cell_type": "code",
      "metadata": {
        "id": "wqG2bJla1LvG"
      },
      "source": [
        "import pandas as pd\r\n",
        "import seaborn as sns\r\n",
        "import matplotlib.pyplot as plt\r\n",
        "%matplotlib inline\r\n",
        "import sklearn"
      ],
      "execution_count": null,
      "outputs": []
    },
    {
      "cell_type": "markdown",
      "metadata": {
        "id": "83dgYZuC8tyd"
      },
      "source": [
        "# **Baca Dataset**"
      ]
    },
    {
      "cell_type": "code",
      "metadata": {
        "id": "xnPasM-08q7X",
        "colab": {
          "base_uri": "https://localhost:8080/",
          "height": 226
        },
        "outputId": "e22bebdd-2f16-4af2-8a7f-0988abe4db59"
      },
      "source": [
        "df = pd.read_csv('data.csv')\r\n",
        "df.head()"
      ],
      "execution_count": null,
      "outputs": [
        {
          "output_type": "execute_result",
          "data": {
            "text/html": [
              "<div>\n",
              "<style scoped>\n",
              "    .dataframe tbody tr th:only-of-type {\n",
              "        vertical-align: middle;\n",
              "    }\n",
              "\n",
              "    .dataframe tbody tr th {\n",
              "        vertical-align: top;\n",
              "    }\n",
              "\n",
              "    .dataframe thead th {\n",
              "        text-align: right;\n",
              "    }\n",
              "</style>\n",
              "<table border=\"1\" class=\"dataframe\">\n",
              "  <thead>\n",
              "    <tr style=\"text-align: right;\">\n",
              "      <th></th>\n",
              "      <th>gameId</th>\n",
              "      <th>gameDuration</th>\n",
              "      <th>hasWon</th>\n",
              "      <th>frame</th>\n",
              "      <th>goldDiff</th>\n",
              "      <th>expDiff</th>\n",
              "      <th>champLevelDiff</th>\n",
              "      <th>isFirstTower</th>\n",
              "      <th>isFirstBlood</th>\n",
              "      <th>killedFireDrake</th>\n",
              "      <th>killedWaterDrake</th>\n",
              "      <th>killedAirDrake</th>\n",
              "      <th>killedEarthDrake</th>\n",
              "      <th>killedElderDrake</th>\n",
              "      <th>lostFireDrake</th>\n",
              "      <th>lostWaterDrake</th>\n",
              "      <th>lostAirDrake</th>\n",
              "      <th>lostEarthDrake</th>\n",
              "      <th>lostElderDrake</th>\n",
              "      <th>killedBaronNashor</th>\n",
              "      <th>lostBaronNashor</th>\n",
              "      <th>killedRiftHerald</th>\n",
              "      <th>lostRiftHerald</th>\n",
              "      <th>destroyedTopInhibitor</th>\n",
              "      <th>destroyedMidInhibitor</th>\n",
              "      <th>destroyedBotInhibitor</th>\n",
              "      <th>lostTopInhibitor</th>\n",
              "      <th>lostMidInhibitor</th>\n",
              "      <th>lostBotInhibitor</th>\n",
              "      <th>destroyedTopNexusTurret</th>\n",
              "      <th>destroyedMidNexusTurret</th>\n",
              "      <th>destroyedBotNexusTurret</th>\n",
              "      <th>lostTopNexusTurret</th>\n",
              "      <th>lostMidNexusTurret</th>\n",
              "      <th>lostBotNexusTurret</th>\n",
              "      <th>destroyedTopBaseTurret</th>\n",
              "      <th>destroyedMidBaseTurret</th>\n",
              "      <th>destroyedBotBaseTurret</th>\n",
              "      <th>lostTopBaseTurret</th>\n",
              "      <th>lostMidBaseTurret</th>\n",
              "      <th>lostBotBaseTurret</th>\n",
              "      <th>destroyedTopInnerTurret</th>\n",
              "      <th>destroyedMidInnerTurret</th>\n",
              "      <th>destroyedBotInnerTurret</th>\n",
              "      <th>lostTopInnerTurret</th>\n",
              "      <th>lostMidInnerTurret</th>\n",
              "      <th>lostBotInnerTurret</th>\n",
              "      <th>destroyedTopOuterTurret</th>\n",
              "      <th>destroyedMidOuterTurret</th>\n",
              "      <th>destroyedBotOuterTurret</th>\n",
              "      <th>lostTopOuterTurret</th>\n",
              "      <th>lostMidOuterTurret</th>\n",
              "      <th>lostBotOuterTurret</th>\n",
              "      <th>kills</th>\n",
              "      <th>deaths</th>\n",
              "      <th>assists</th>\n",
              "      <th>wardsPlaced</th>\n",
              "      <th>wardsDestroyed</th>\n",
              "      <th>wardsLost</th>\n",
              "    </tr>\n",
              "  </thead>\n",
              "  <tbody>\n",
              "    <tr>\n",
              "      <th>0</th>\n",
              "      <td>4546233126</td>\n",
              "      <td>1443000</td>\n",
              "      <td>1</td>\n",
              "      <td>10</td>\n",
              "      <td>-448</td>\n",
              "      <td>-147</td>\n",
              "      <td>-0.2</td>\n",
              "      <td>0</td>\n",
              "      <td>1</td>\n",
              "      <td>0</td>\n",
              "      <td>0</td>\n",
              "      <td>0</td>\n",
              "      <td>1</td>\n",
              "      <td>0</td>\n",
              "      <td>0</td>\n",
              "      <td>0</td>\n",
              "      <td>0</td>\n",
              "      <td>0</td>\n",
              "      <td>0</td>\n",
              "      <td>0</td>\n",
              "      <td>0</td>\n",
              "      <td>0</td>\n",
              "      <td>0</td>\n",
              "      <td>0</td>\n",
              "      <td>0</td>\n",
              "      <td>0</td>\n",
              "      <td>0</td>\n",
              "      <td>0</td>\n",
              "      <td>0</td>\n",
              "      <td>0</td>\n",
              "      <td>0</td>\n",
              "      <td>0</td>\n",
              "      <td>0</td>\n",
              "      <td>0</td>\n",
              "      <td>0</td>\n",
              "      <td>0</td>\n",
              "      <td>0</td>\n",
              "      <td>0</td>\n",
              "      <td>0</td>\n",
              "      <td>0</td>\n",
              "      <td>0</td>\n",
              "      <td>0</td>\n",
              "      <td>0</td>\n",
              "      <td>0</td>\n",
              "      <td>0</td>\n",
              "      <td>0</td>\n",
              "      <td>0</td>\n",
              "      <td>0</td>\n",
              "      <td>0</td>\n",
              "      <td>0</td>\n",
              "      <td>0</td>\n",
              "      <td>0</td>\n",
              "      <td>0</td>\n",
              "      <td>4</td>\n",
              "      <td>7</td>\n",
              "      <td>5</td>\n",
              "      <td>21</td>\n",
              "      <td>3</td>\n",
              "      <td>5</td>\n",
              "    </tr>\n",
              "    <tr>\n",
              "      <th>1</th>\n",
              "      <td>4546233126</td>\n",
              "      <td>1443000</td>\n",
              "      <td>1</td>\n",
              "      <td>12</td>\n",
              "      <td>-1306</td>\n",
              "      <td>-925</td>\n",
              "      <td>-0.6</td>\n",
              "      <td>0</td>\n",
              "      <td>1</td>\n",
              "      <td>0</td>\n",
              "      <td>0</td>\n",
              "      <td>0</td>\n",
              "      <td>1</td>\n",
              "      <td>0</td>\n",
              "      <td>0</td>\n",
              "      <td>1</td>\n",
              "      <td>0</td>\n",
              "      <td>0</td>\n",
              "      <td>0</td>\n",
              "      <td>0</td>\n",
              "      <td>0</td>\n",
              "      <td>0</td>\n",
              "      <td>1</td>\n",
              "      <td>0</td>\n",
              "      <td>0</td>\n",
              "      <td>0</td>\n",
              "      <td>0</td>\n",
              "      <td>0</td>\n",
              "      <td>0</td>\n",
              "      <td>0</td>\n",
              "      <td>0</td>\n",
              "      <td>0</td>\n",
              "      <td>0</td>\n",
              "      <td>0</td>\n",
              "      <td>0</td>\n",
              "      <td>0</td>\n",
              "      <td>0</td>\n",
              "      <td>0</td>\n",
              "      <td>0</td>\n",
              "      <td>0</td>\n",
              "      <td>0</td>\n",
              "      <td>0</td>\n",
              "      <td>0</td>\n",
              "      <td>0</td>\n",
              "      <td>0</td>\n",
              "      <td>0</td>\n",
              "      <td>0</td>\n",
              "      <td>0</td>\n",
              "      <td>0</td>\n",
              "      <td>0</td>\n",
              "      <td>0</td>\n",
              "      <td>0</td>\n",
              "      <td>0</td>\n",
              "      <td>6</td>\n",
              "      <td>11</td>\n",
              "      <td>6</td>\n",
              "      <td>28</td>\n",
              "      <td>4</td>\n",
              "      <td>6</td>\n",
              "    </tr>\n",
              "    <tr>\n",
              "      <th>2</th>\n",
              "      <td>4546233126</td>\n",
              "      <td>1443000</td>\n",
              "      <td>1</td>\n",
              "      <td>14</td>\n",
              "      <td>2115</td>\n",
              "      <td>2578</td>\n",
              "      <td>0.4</td>\n",
              "      <td>1</td>\n",
              "      <td>1</td>\n",
              "      <td>0</td>\n",
              "      <td>0</td>\n",
              "      <td>0</td>\n",
              "      <td>1</td>\n",
              "      <td>0</td>\n",
              "      <td>0</td>\n",
              "      <td>1</td>\n",
              "      <td>0</td>\n",
              "      <td>0</td>\n",
              "      <td>0</td>\n",
              "      <td>0</td>\n",
              "      <td>0</td>\n",
              "      <td>0</td>\n",
              "      <td>1</td>\n",
              "      <td>0</td>\n",
              "      <td>0</td>\n",
              "      <td>0</td>\n",
              "      <td>0</td>\n",
              "      <td>0</td>\n",
              "      <td>0</td>\n",
              "      <td>0</td>\n",
              "      <td>0</td>\n",
              "      <td>0</td>\n",
              "      <td>0</td>\n",
              "      <td>0</td>\n",
              "      <td>0</td>\n",
              "      <td>0</td>\n",
              "      <td>0</td>\n",
              "      <td>0</td>\n",
              "      <td>0</td>\n",
              "      <td>0</td>\n",
              "      <td>0</td>\n",
              "      <td>0</td>\n",
              "      <td>0</td>\n",
              "      <td>0</td>\n",
              "      <td>0</td>\n",
              "      <td>0</td>\n",
              "      <td>0</td>\n",
              "      <td>1</td>\n",
              "      <td>0</td>\n",
              "      <td>0</td>\n",
              "      <td>0</td>\n",
              "      <td>0</td>\n",
              "      <td>0</td>\n",
              "      <td>10</td>\n",
              "      <td>11</td>\n",
              "      <td>12</td>\n",
              "      <td>35</td>\n",
              "      <td>4</td>\n",
              "      <td>6</td>\n",
              "    </tr>\n",
              "    <tr>\n",
              "      <th>3</th>\n",
              "      <td>4546233126</td>\n",
              "      <td>1443000</td>\n",
              "      <td>1</td>\n",
              "      <td>16</td>\n",
              "      <td>1195</td>\n",
              "      <td>2134</td>\n",
              "      <td>0.4</td>\n",
              "      <td>1</td>\n",
              "      <td>1</td>\n",
              "      <td>0</td>\n",
              "      <td>0</td>\n",
              "      <td>0</td>\n",
              "      <td>1</td>\n",
              "      <td>0</td>\n",
              "      <td>0</td>\n",
              "      <td>1</td>\n",
              "      <td>0</td>\n",
              "      <td>0</td>\n",
              "      <td>0</td>\n",
              "      <td>0</td>\n",
              "      <td>0</td>\n",
              "      <td>0</td>\n",
              "      <td>1</td>\n",
              "      <td>0</td>\n",
              "      <td>0</td>\n",
              "      <td>0</td>\n",
              "      <td>0</td>\n",
              "      <td>0</td>\n",
              "      <td>0</td>\n",
              "      <td>0</td>\n",
              "      <td>0</td>\n",
              "      <td>0</td>\n",
              "      <td>0</td>\n",
              "      <td>0</td>\n",
              "      <td>0</td>\n",
              "      <td>0</td>\n",
              "      <td>0</td>\n",
              "      <td>0</td>\n",
              "      <td>0</td>\n",
              "      <td>0</td>\n",
              "      <td>0</td>\n",
              "      <td>0</td>\n",
              "      <td>0</td>\n",
              "      <td>0</td>\n",
              "      <td>0</td>\n",
              "      <td>0</td>\n",
              "      <td>0</td>\n",
              "      <td>1</td>\n",
              "      <td>0</td>\n",
              "      <td>0</td>\n",
              "      <td>0</td>\n",
              "      <td>1</td>\n",
              "      <td>0</td>\n",
              "      <td>10</td>\n",
              "      <td>12</td>\n",
              "      <td>12</td>\n",
              "      <td>45</td>\n",
              "      <td>6</td>\n",
              "      <td>10</td>\n",
              "    </tr>\n",
              "    <tr>\n",
              "      <th>4</th>\n",
              "      <td>4546233126</td>\n",
              "      <td>1443000</td>\n",
              "      <td>1</td>\n",
              "      <td>18</td>\n",
              "      <td>2931</td>\n",
              "      <td>4382</td>\n",
              "      <td>0.6</td>\n",
              "      <td>1</td>\n",
              "      <td>1</td>\n",
              "      <td>1</td>\n",
              "      <td>0</td>\n",
              "      <td>0</td>\n",
              "      <td>1</td>\n",
              "      <td>0</td>\n",
              "      <td>0</td>\n",
              "      <td>1</td>\n",
              "      <td>0</td>\n",
              "      <td>0</td>\n",
              "      <td>0</td>\n",
              "      <td>0</td>\n",
              "      <td>0</td>\n",
              "      <td>0</td>\n",
              "      <td>1</td>\n",
              "      <td>0</td>\n",
              "      <td>0</td>\n",
              "      <td>0</td>\n",
              "      <td>0</td>\n",
              "      <td>0</td>\n",
              "      <td>0</td>\n",
              "      <td>0</td>\n",
              "      <td>0</td>\n",
              "      <td>0</td>\n",
              "      <td>0</td>\n",
              "      <td>0</td>\n",
              "      <td>0</td>\n",
              "      <td>0</td>\n",
              "      <td>0</td>\n",
              "      <td>0</td>\n",
              "      <td>0</td>\n",
              "      <td>0</td>\n",
              "      <td>0</td>\n",
              "      <td>0</td>\n",
              "      <td>0</td>\n",
              "      <td>0</td>\n",
              "      <td>0</td>\n",
              "      <td>0</td>\n",
              "      <td>0</td>\n",
              "      <td>1</td>\n",
              "      <td>0</td>\n",
              "      <td>0</td>\n",
              "      <td>0</td>\n",
              "      <td>1</td>\n",
              "      <td>0</td>\n",
              "      <td>13</td>\n",
              "      <td>13</td>\n",
              "      <td>16</td>\n",
              "      <td>49</td>\n",
              "      <td>7</td>\n",
              "      <td>12</td>\n",
              "    </tr>\n",
              "  </tbody>\n",
              "</table>\n",
              "</div>"
            ],
            "text/plain": [
              "       gameId  gameDuration  hasWon  ...  wardsPlaced  wardsDestroyed  wardsLost\n",
              "0  4546233126       1443000       1  ...           21               3          5\n",
              "1  4546233126       1443000       1  ...           28               4          6\n",
              "2  4546233126       1443000       1  ...           35               4          6\n",
              "3  4546233126       1443000       1  ...           45               6         10\n",
              "4  4546233126       1443000       1  ...           49               7         12\n",
              "\n",
              "[5 rows x 59 columns]"
            ]
          },
          "metadata": {
            "tags": []
          },
          "execution_count": 2
        }
      ]
    },
    {
      "cell_type": "markdown",
      "metadata": {
        "id": "wmCvQPb2zMAm"
      },
      "source": [
        "# **Eksplorasi**"
      ]
    },
    {
      "cell_type": "markdown",
      "metadata": {
        "id": "V7oL-xSnMv59"
      },
      "source": [
        "Mengecek jumlah game yang ada"
      ]
    },
    {
      "cell_type": "code",
      "metadata": {
        "id": "q55-44L4pveI",
        "colab": {
          "base_uri": "https://localhost:8080/"
        },
        "outputId": "715d53eb-c66d-4d7a-9d78-4e48ca576478"
      },
      "source": [
        "game_ids = df['gameId'].unique()\r\n",
        "print('Ada ' + str(len(game_ids)) + ' gameId')"
      ],
      "execution_count": null,
      "outputs": [
        {
          "output_type": "stream",
          "text": [
            "Ada 24912 gameId\n"
          ],
          "name": "stdout"
        }
      ]
    },
    {
      "cell_type": "markdown",
      "metadata": {
        "id": "izqE-N-F4oxF"
      },
      "source": [
        "## Melakukan pendekatan OOP dengan membuat Kelas"
      ]
    },
    {
      "cell_type": "markdown",
      "metadata": {
        "id": "T8HM4izBNRNs"
      },
      "source": [
        "Membuat kelas Dataset"
      ]
    },
    {
      "cell_type": "code",
      "metadata": {
        "id": "x9fAq2esITug"
      },
      "source": [
        "class Dataset:\r\n",
        "  def __init__(self, has_won_count, has_lost_count):\r\n",
        "    self.has_won_count = has_won_count\r\n",
        "    self.has_lost_count = has_lost_count\r\n",
        "\r\n",
        "  def display(self):\r\n",
        "    print(f'Menang sejumlah {self.has_won_count} ({self.__get_won_percentage()}%)')\r\n",
        "    print(f'Kalah sejumlah {self.has_lost_count} ({self.__get_lost_percentage()}%)')\r\n",
        "\r\n",
        "  \r\n",
        "  def __get_won_percentage(self):\r\n",
        "    return self.has_won_count / (self.has_won_count + self.has_lost_count)\r\n",
        "\r\n",
        "\r\n",
        "  def __get_lost_percentage(self):\r\n",
        "    return self.has_lost_count / (self.has_won_count + self.has_lost_count)\r\n"
      ],
      "execution_count": null,
      "outputs": []
    },
    {
      "cell_type": "markdown",
      "metadata": {
        "id": "owfGm4HPNXI4"
      },
      "source": [
        "Membuat kelas Feature"
      ]
    },
    {
      "cell_type": "code",
      "metadata": {
        "id": "SleoAI8XVUPi"
      },
      "source": [
        "class Feature:\r\n",
        "  def __init__(self, name):\r\n",
        "    self.name = name"
      ],
      "execution_count": null,
      "outputs": []
    },
    {
      "cell_type": "markdown",
      "metadata": {
        "id": "yQX1hcsZOue4"
      },
      "source": [
        "Membuat kelas untuk fitur yang hanya terkait dengan 1 kolom"
      ]
    },
    {
      "cell_type": "code",
      "metadata": {
        "id": "RAsnkEjPOCXT"
      },
      "source": [
        "class SingleFeature(Feature):\r\n",
        "  def __init__(self, field, name):\r\n",
        "    super().__init__(name)\r\n",
        "    self.field = field\r\n"
      ],
      "execution_count": null,
      "outputs": []
    },
    {
      "cell_type": "code",
      "metadata": {
        "id": "FK1dBqW6QxCV"
      },
      "source": [
        "class SingleBooleanFeature(SingleFeature):\r\n",
        "  def explore(self):\r\n",
        "    won_true_percentages = []\r\n",
        "    lost_true_percentages = []\r\n",
        "\r\n",
        "    for game_id in game_ids:\r\n",
        "      games = df[df.gameId == game_id]\r\n",
        "      series = games[self.field]\r\n",
        "      true_count = float(len(series[series == 1]))\r\n",
        "\r\n",
        "      if games.iloc[0].hasWon == 1:\r\n",
        "        won_true_percentages.append(true_count / float(len(series)) * 100)\r\n",
        "\r\n",
        "      else:\r\n",
        "        lost_true_percentages.append(true_count / float(len(series)) * 100)\r\n",
        "\r\n",
        "    \r\n",
        "    if len(won_true_percentages) == 0: won_true_percentages.append(0)\r\n",
        "    if len(lost_true_percentages) == 0: lost_true_percentages.append(0)\r\n",
        "\r\n",
        "    self.won_true_avg_percentage = sum(won_true_percentages) / len(won_true_percentages)\r\n",
        "    self.lost_true_avg_percentage = sum(lost_true_percentages) / len(lost_true_percentages)\r\n",
        "\r\n",
        "\r\n",
        "  def display(self):\r\n",
        "    print(f'In won game, True percentage of {self.name} feature is {self.won_true_avg_percentage}')\r\n",
        "    print(f'In lost game, True percentage of {self.name} feature is {self.lost_true_avg_percentage}')"
      ],
      "execution_count": null,
      "outputs": []
    },
    {
      "cell_type": "markdown",
      "metadata": {
        "id": "1s0CvsKaO2h3"
      },
      "source": [
        "Membuat kelas untuk fitur yang terkait dengan beberapa kolom boolean"
      ]
    },
    {
      "cell_type": "code",
      "metadata": {
        "id": "QvPHqZUfOcB6"
      },
      "source": [
        "class MultipleBooleanFeature(Feature):\r\n",
        "  def __init__(self, fields, name):\r\n",
        "    super().__init__(name)\r\n",
        "    self.fields = fields\r\n",
        "\r\n",
        "  \r\n",
        "  def explore(self):\r\n",
        "    won_true_avg_percentages = []\r\n",
        "    lost_true_avg_percentages = []\r\n",
        "\r\n",
        "    for field in self.fields:\r\n",
        "      feature = SingleBooleanFeature(field, self.name)\r\n",
        "      feature.explore()\r\n",
        "      \r\n",
        "      won_true_avg_percentages.append(feature.won_true_avg_percentage)\r\n",
        "      lost_true_avg_percentages.append(feature.lost_true_avg_percentage)\r\n",
        "\r\n",
        "    if len(won_true_avg_percentages) == 0: won_true_avg_percentages.append(0)\r\n",
        "    if len(lost_true_avg_percentages) == 0: lost_true_avg_percentages.append(0)\r\n",
        "\r\n",
        "    won_true_avg_percentage = sum(won_true_avg_percentages) / len(won_true_avg_percentages)\r\n",
        "    lost_true_avg_percentage = sum(lost_true_avg_percentages) / len(lost_true_avg_percentages)\r\n",
        "\r\n",
        "    print(f'In won game, True percentage of {self.name} features is {won_true_avg_percentage}')\r\n",
        "    print(f'In lost game, True percentage of {self.name} features is {lost_true_avg_percentage}')"
      ],
      "execution_count": null,
      "outputs": []
    },
    {
      "cell_type": "markdown",
      "metadata": {
        "id": "Xb-6apVkO7_P"
      },
      "source": [
        "Membuat kelas untuk numerical feature yang terkait dengan 1 kolom"
      ]
    },
    {
      "cell_type": "code",
      "metadata": {
        "id": "VdEuQvwzNg6y"
      },
      "source": [
        "class NumericalFeature(SingleFeature):\r\n",
        "  def explore(self):\r\n",
        "    has_won_total_last_value = 0\r\n",
        "    has_won_total_value = 0\r\n",
        "    has_lost_total_last_value = 0\r\n",
        "    has_lost_total_value = 0\r\n",
        "\r\n",
        "    for game_id in game_ids:\r\n",
        "      games = df[df.gameId == game_id]\r\n",
        "      if (len(games) < 1): continue\r\n",
        "      lastGame = games.iloc[len(games) - 1]\r\n",
        "\r\n",
        "      # Check whether has won\r\n",
        "      if games.iloc[0].hasWon == 1:\r\n",
        "        has_won_total_last_value += lastGame[self.field]\r\n",
        "        has_won_total_value += games[self.field].sum() / len(games)\r\n",
        "\r\n",
        "      else:\r\n",
        "        has_lost_total_last_value += lastGame[self.field]\r\n",
        "        has_lost_total_value += games[self.field].sum() / len(games)\r\n",
        "\r\n",
        "    \r\n",
        "    self.won_average_last_value = has_won_total_last_value / dataset.has_won_count\r\n",
        "    self.lost_average_last_value = has_won_total_value / dataset.has_won_count\r\n",
        "    \r\n",
        "    self.won_average_value = has_lost_total_last_value / dataset.has_lost_count\r\n",
        "    self.lost_average_value = has_lost_total_value / dataset.has_lost_count\r\n",
        "\r\n",
        "    self.__display()\r\n",
        "\r\n",
        "\r\n",
        "  def __display(self):\r\n",
        "    print(f'Average last {self.name} of hasWon game: {self.won_average_last_value}')\r\n",
        "    print(f'Average {self.name} of hasWon game: {self.won_average_value}\\n')\r\n",
        "\r\n",
        "    print(f'Average last {self.name} of hasLost game: {self.lost_average_last_value}')\r\n",
        "    print(f'Average {self.name} of hasLost game: {self.lost_average_value}')"
      ],
      "execution_count": null,
      "outputs": []
    },
    {
      "cell_type": "markdown",
      "metadata": {
        "id": "1gozO_9ZT2xm"
      },
      "source": [
        "## Membuat object dataset"
      ]
    },
    {
      "cell_type": "code",
      "metadata": {
        "colab": {
          "base_uri": "https://localhost:8080/"
        },
        "id": "EUimCIasJ4ZP",
        "outputId": "921e590b-0b04-4276-f2d4-757d52041209"
      },
      "source": [
        "dataset = Dataset(0, 0)\r\n",
        "\r\n",
        "for game_id in game_ids:\r\n",
        "  games = df[df.gameId == game_id]\r\n",
        "  if (len(games) < 1): continue\r\n",
        "\r\n",
        "  # Check whether has won\r\n",
        "  if games.iloc[0].hasWon == 1:\r\n",
        "    dataset.has_won_count += 1\r\n",
        "\r\n",
        "  else:\r\n",
        "    dataset.has_lost_count += 1\r\n",
        "\r\n",
        "\r\n",
        "dataset.display()"
      ],
      "execution_count": null,
      "outputs": [
        {
          "output_type": "stream",
          "text": [
            "Menang sejumlah 12539 (0.5033317276814386%)\n",
            "Kalah sejumlah 12373 (0.4966682723185613%)\n"
          ],
          "name": "stdout"
        }
      ]
    },
    {
      "cell_type": "markdown",
      "metadata": {
        "id": "6miwe8lW40Bc"
      },
      "source": [
        "## Membuat object-object fitur pilihan dan mengeksplorasinya"
      ]
    },
    {
      "cell_type": "markdown",
      "metadata": {
        "id": "VZK-axr_JJ2Y"
      },
      "source": [
        "Eksplorasi fitur goldDiff"
      ]
    },
    {
      "cell_type": "code",
      "metadata": {
        "colab": {
          "base_uri": "https://localhost:8080/"
        },
        "id": "oDlbE9nJJV8b",
        "outputId": "dca0c928-a9be-46de-8d76-849308357f60"
      },
      "source": [
        "goldDiff_feature = NumericalFeature('goldDiff', 'Gold Difference')\r\n",
        "goldDiff_feature.explore()"
      ],
      "execution_count": null,
      "outputs": [
        {
          "output_type": "stream",
          "text": [
            "Average last Gold Difference of hasWon game: 8414.75683866337\n",
            "Average Gold Difference of hasWon game: -8648.029014790269\n",
            "\n",
            "Average last Gold Difference of hasLost game: 3903.847958203456\n",
            "Average Gold Difference of hasLost game: -3883.7115219344087\n"
          ],
          "name": "stdout"
        }
      ]
    },
    {
      "cell_type": "markdown",
      "metadata": {
        "id": "y9yJEozpUqhl"
      },
      "source": [
        "Eksplorasi fitur expDiff"
      ]
    },
    {
      "cell_type": "code",
      "metadata": {
        "colab": {
          "base_uri": "https://localhost:8080/"
        },
        "id": "rk_Sk64CU3zn",
        "outputId": "383442ff-b399-45fb-8c42-b8bcaa31e3a6"
      },
      "source": [
        "expDiff_feature = NumericalFeature(\"expDiff\", \"EXP Difference\")\r\n",
        "expDiff_feature.explore()\r\n"
      ],
      "execution_count": null,
      "outputs": [
        {
          "output_type": "stream",
          "text": [
            "Average last EXP Difference of hasWon game: 8307.144899904672\n",
            "Average EXP Difference of hasWon game: 3232.1301890568748\n",
            "\n",
            "Average last EXP Difference of hasLost game: -9195.359194395796\n",
            "Average EXP Difference of hasLost game: -3596.6993686954106\n"
          ],
          "name": "stdout"
        }
      ]
    },
    {
      "cell_type": "code",
      "metadata": {
        "id": "eWZFkPm1YfrB"
      },
      "source": [
        "Eksplorasi fitur champLevelDiff"
      ],
      "execution_count": null,
      "outputs": []
    },
    {
      "cell_type": "code",
      "metadata": {
        "colab": {
          "base_uri": "https://localhost:8080/"
        },
        "id": "a9MkE1FeKYT5",
        "outputId": "31f80240-82a9-472d-9a01-a96c585b8d9b"
      },
      "source": [
        "champLevelDiff_feature = NumericalFeature('champLevelDiff', 'Championship Level Difference')\r\n",
        "champLevelDiff_feature.explore()"
      ],
      "execution_count": null,
      "outputs": [
        {
          "output_type": "stream",
          "text": [
            "Average last Championship Level Difference of hasWon game: 1.104250737698379\n",
            "Average Championship Level Difference of hasWon game: -1.1904146124626174\n",
            "\n",
            "Average last Championship Level Difference of hasLost game: 0.5128895778129525\n",
            "Average Championship Level Difference of hasLost game: -0.5567144860819065\n"
          ],
          "name": "stdout"
        }
      ]
    },
    {
      "cell_type": "markdown",
      "metadata": {
        "id": "OCQpKkyvKrly"
      },
      "source": [
        "Eksplorasi fitur isFirstTower"
      ]
    },
    {
      "cell_type": "code",
      "metadata": {
        "colab": {
          "base_uri": "https://localhost:8080/"
        },
        "id": "Q79rcADgeIbo",
        "outputId": "8ff6a6e8-c27c-4a40-ae0a-4c2cc06a4e75"
      },
      "source": [
        "isFirstTower_feature = SingleBooleanFeature('isFirstTower', 'Is First Tower')\r\n",
        "isFirstTower_feature.explore()\r\n",
        "isFirstTower_feature.display()"
      ],
      "execution_count": null,
      "outputs": [
        {
          "output_type": "stream",
          "text": [
            "In won game, True percentage of Is First Tower feature is 70.44112289619368\n",
            "In lost game, True percentage of Is First Tower feature is 45.77988016445224\n"
          ],
          "name": "stdout"
        }
      ]
    },
    {
      "cell_type": "markdown",
      "metadata": {
        "id": "K5-q4ws1-5ZF"
      },
      "source": [
        "Eksplorasi fitur isFirstBlood"
      ]
    },
    {
      "cell_type": "code",
      "metadata": {
        "colab": {
          "base_uri": "https://localhost:8080/"
        },
        "id": "_Q7l5Y6N-5CB",
        "outputId": "dd0b1cca-6b7b-4758-cea5-d6b2d03eed30"
      },
      "source": [
        "isFirstBlood_feature = SingleBooleanFeature('isFirstBlood', 'Is First Blood')\r\n",
        "isFirstBlood_feature.explore()\r\n",
        "isFirstBlood_feature.display()"
      ],
      "execution_count": null,
      "outputs": [
        {
          "output_type": "stream",
          "text": [
            "In won game, True percentage of Is First Blood feature is 99.96466755442282\n",
            "In lost game, True percentage of Is First Blood feature is 99.55610469464754\n"
          ],
          "name": "stdout"
        }
      ]
    },
    {
      "cell_type": "markdown",
      "metadata": {
        "id": "zhFjnb4w_E7O"
      },
      "source": [
        "Eksplorasi fitur killedFireDrake"
      ]
    },
    {
      "cell_type": "code",
      "metadata": {
        "colab": {
          "base_uri": "https://localhost:8080/"
        },
        "id": "ELn-L-zm_Nym",
        "outputId": "b5ec5462-2a9a-4297-b19f-d75f6ce6ddc4"
      },
      "source": [
        "killedFireDrake_feature = SingleBooleanFeature('killedFireDrake', 'Killed Fire Drake')\r\n",
        "killedFireDrake_feature.explore()\r\n",
        "killedFireDrake_feature.display()"
      ],
      "execution_count": null,
      "outputs": [
        {
          "output_type": "stream",
          "text": [
            "In won game, True percentage of Killed Fire Drake feature is 32.49482586594573\n",
            "In lost game, True percentage of Killed Fire Drake feature is 16.142218643644256\n"
          ],
          "name": "stdout"
        }
      ]
    },
    {
      "cell_type": "markdown",
      "metadata": {
        "id": "DpUAiiHTC8jW"
      },
      "source": [
        "Eksplorasi fitur-fitur terkait killed"
      ]
    },
    {
      "cell_type": "code",
      "metadata": {
        "colab": {
          "base_uri": "https://localhost:8080/"
        },
        "id": "1HVIQOd9C-zi",
        "outputId": "7fc356e3-bc44-43dc-a8ba-016efbd50730"
      },
      "source": [
        "killed_multiple_features = MultipleBooleanFeature(\r\n",
        "    ['killedFireDrake', 'killedWaterDrake', 'killedAirDrake', 'killedEarthDrake', 'killedElderDrake', 'killedBaronNashor', 'killedRiftHerald'],\r\n",
        "    'Killed'\r\n",
        ")\r\n",
        "killed_multiple_features.explore()"
      ],
      "execution_count": null,
      "outputs": [
        {
          "output_type": "stream",
          "text": [
            "In won game, True percentage of Killed features is 26.538756902330338\n",
            "In lost game, True percentage of Killed features is 14.443511340973373\n"
          ],
          "name": "stdout"
        }
      ]
    },
    {
      "cell_type": "markdown",
      "metadata": {
        "id": "jXlu7uVoAHgD"
      },
      "source": [
        "Ekplorasi fitur destroyedTopInhibitor"
      ]
    },
    {
      "cell_type": "code",
      "metadata": {
        "colab": {
          "base_uri": "https://localhost:8080/"
        },
        "id": "c2AFXqSP_t2Z",
        "outputId": "9f4b4a5d-380d-421a-f9c3-8d736c3dba4e"
      },
      "source": [
        "destroyedTopInhibitor_feature = SingleBooleanFeature('destroyedTopInhibitor', 'Destroyted Top Inhibitor')\r\n",
        "destroyedTopInhibitor_feature.explore()\r\n",
        "destroyedTopInhibitor_feature.display()"
      ],
      "execution_count": null,
      "outputs": [
        {
          "output_type": "stream",
          "text": [
            "In won game, True percentage of Destroyted Top Inhibitor feature is 3.2276715238123272\n",
            "In lost game, True percentage of Destroyted Top Inhibitor feature is 0.44492294982851793\n"
          ],
          "name": "stdout"
        }
      ]
    },
    {
      "cell_type": "markdown",
      "metadata": {
        "id": "q0XjyKhpymCB"
      },
      "source": [
        "Eksplorasi fitur-fitur terkait destroyed"
      ]
    },
    {
      "cell_type": "code",
      "metadata": {
        "colab": {
          "base_uri": "https://localhost:8080/"
        },
        "id": "OyrohGjLypqA",
        "outputId": "b176312d-e6d8-4635-cb54-550920d6ec70"
      },
      "source": [
        "destroyed_multiple_features = MultipleBooleanFeature(\r\n",
        "    ['destroyedTopInhibitor', 'destroyedMidInhibitor', 'destroyedBotInhibitor', 'destroyedTopNexusTurret', 'destroyedMidNexusTurret', 'destroyedBotNexusTurret', 'destroyedTopBaseTurret', 'destroyedMidBaseTurret', 'destroyedBotBaseTurret', 'destroyedTopInnerTurret', 'destroyedMidInnerTurret', 'destroyedBotInnerTurret', 'destroyedTopOuterTurret', 'destroyedMidOuterTurret', 'destroyedBotOuterTurret'],\r\n",
        "    'Destroyed'\r\n",
        ")\r\n",
        "destroyed_multiple_features.explore()"
      ],
      "execution_count": null,
      "outputs": [
        {
          "output_type": "stream",
          "text": [
            "In won game, True percentage of Destroyed features is 16.504507629379845\n",
            "In lost game, True percentage of Destroyed features is 6.668972835346449\n"
          ],
          "name": "stdout"
        }
      ]
    },
    {
      "cell_type": "markdown",
      "metadata": {
        "id": "1Xvr1FkcAOiB"
      },
      "source": [
        "Eksplorasi fitur kills"
      ]
    },
    {
      "cell_type": "code",
      "metadata": {
        "colab": {
          "base_uri": "https://localhost:8080/"
        },
        "id": "1QVIdCGTAQIW",
        "outputId": "e868e569-50c7-457f-e9c1-1f93a9f2c327"
      },
      "source": [
        "kills_feature = NumericalFeature('kills', 'Kills')\r\n",
        "kills_feature.explore()"
      ],
      "execution_count": null,
      "outputs": [
        {
          "output_type": "stream",
          "text": [
            "Average last Kills of hasWon game: 30.718478347555628\n",
            "Average Kills of hasWon game: 20.151943748484605\n",
            "\n",
            "Average last Kills of hasLost game: 17.822881287866473\n",
            "Average Kills of hasLost game: 12.831136546880538\n"
          ],
          "name": "stdout"
        }
      ]
    },
    {
      "cell_type": "markdown",
      "metadata": {
        "id": "2rfNXTwnAepD"
      },
      "source": [
        "Eksplorasi fitur deaths"
      ]
    },
    {
      "cell_type": "code",
      "metadata": {
        "colab": {
          "base_uri": "https://localhost:8080/"
        },
        "id": "bKY0mv7tArYG",
        "outputId": "e9bf3ead-e0c7-4ca3-ea73-6a820b779b13"
      },
      "source": [
        "deaths_feature = NumericalFeature('deaths', 'Deaths')\r\n",
        "deaths_feature.explore()"
      ],
      "execution_count": null,
      "outputs": [
        {
          "output_type": "stream",
          "text": [
            "Average last Deaths of hasWon game: 19.70037483052875\n",
            "Average Deaths of hasWon game: 31.13634526792209\n",
            "\n",
            "Average last Deaths of hasLost game: 12.541613714481288\n",
            "Average Deaths of hasLost game: 17.973817671009623\n"
          ],
          "name": "stdout"
        }
      ]
    },
    {
      "cell_type": "markdown",
      "metadata": {
        "id": "VhoDI074Ay4O"
      },
      "source": [
        "Eksplorasi fitur assists"
      ]
    },
    {
      "cell_type": "code",
      "metadata": {
        "colab": {
          "base_uri": "https://localhost:8080/"
        },
        "id": "1xDAE1riA22V",
        "outputId": "1f06e163-9872-4713-ee71-8466e62cb376"
      },
      "source": [
        "assists_feature = NumericalFeature('assists', 'Assists')\r\n",
        "assists_feature.explore()"
      ],
      "execution_count": null,
      "outputs": [
        {
          "output_type": "stream",
          "text": [
            "Average last Assists of hasWon game: 44.73562485046654\n",
            "Average Assists of hasWon game: 28.85411783722622\n",
            "\n",
            "Average last Assists of hasLost game: 22.377160624424352\n",
            "Average Assists of hasLost game: 16.25046406176805\n"
          ],
          "name": "stdout"
        }
      ]
    }
  ]
}